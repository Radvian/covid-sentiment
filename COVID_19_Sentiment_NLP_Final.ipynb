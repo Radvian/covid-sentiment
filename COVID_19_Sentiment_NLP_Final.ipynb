{
 "cells": [
  {
   "cell_type": "markdown",
   "metadata": {
    "id": "GJ89TVPV6sMt"
   },
   "source": [
    "## Importing Packages"
   ]
  },
  {
   "cell_type": "code",
   "execution_count": 23,
   "metadata": {
    "colab": {
     "base_uri": "https://localhost:8080/"
    },
    "id": "P-AhVYeBWgQ3",
    "outputId": "92e243e3-1c97-415a-da6e-698f4814f013"
   },
   "outputs": [
    {
     "name": "stdout",
     "output_type": "stream",
     "text": [
      "2.3.1\n",
      "Requirement already satisfied: nltk in c:\\users\\grady\\appdata\\local\\programs\\python\\python38\\lib\\site-packages (3.5)\n",
      "Requirement already satisfied: joblib in c:\\users\\grady\\appdata\\local\\programs\\python\\python38\\lib\\site-packages (from nltk) (0.16.0)\n",
      "Requirement already satisfied: click in c:\\users\\grady\\appdata\\local\\programs\\python\\python38\\lib\\site-packages (from nltk) (7.1.2)\n",
      "Requirement already satisfied: tqdm in c:\\users\\grady\\appdata\\local\\programs\\python\\python38\\lib\\site-packages (from nltk) (4.51.0)\n",
      "Requirement already satisfied: regex in c:\\users\\grady\\appdata\\local\\programs\\python\\python38\\lib\\site-packages (from nltk) (2020.11.13)\n"
     ]
    },
    {
     "name": "stderr",
     "output_type": "stream",
     "text": [
      "[nltk_data] Downloading package punkt to\n",
      "[nltk_data]     C:\\Users\\grady\\AppData\\Roaming\\nltk_data...\n",
      "[nltk_data]   Package punkt is already up-to-date!\n"
     ]
    },
    {
     "name": "stdout",
     "output_type": "stream",
     "text": [
      "Requirement already satisfied: emoji in c:\\users\\grady\\appdata\\local\\programs\\python\\python38\\lib\\site-packages (0.6.0)\n"
     ]
    }
   ],
   "source": [
    "# TensorFlow\n",
    "import tensorflow as tf\n",
    "print(tf.__version__)\n",
    "\n",
    "# nltk package\n",
    "from nltk.stem import LancasterStemmer, SnowballStemmer, RegexpStemmer, WordNetLemmatizer \n",
    "#this was part of the NLP notebook\n",
    "import nltk\n",
    "nltk.download('punkt')\n",
    "\n",
    "# import sentence tokenizer\n",
    "from nltk import sent_tokenize\n",
    "# import word tokenizer\n",
    "from nltk import word_tokenize\n",
    "# list of stopwords\n",
    "from sklearn.feature_extraction.text import ENGLISH_STOP_WORDS\n",
    "\n",
    "# string and regex for text manipulation\n",
    "import string\n",
    "import re\n",
    "\n",
    "# managing data and visualization\n",
    "import pandas as pd\n",
    "import numpy as np\n",
    "import seaborn as sns\n",
    "import matplotlib.pyplot as plt\n",
    "\n",
    "# sklearn key features\n",
    "import sklearn\n",
    "from sklearn.feature_extraction.text import TfidfVectorizer\n",
    "from sklearn.feature_extraction.text import CountVectorizer\n",
    "from sklearn.feature_selection import chi2\n",
    "from sklearn.model_selection import train_test_split\n",
    "\n",
    "# machine learning models\n",
    "from sklearn.tree import DecisionTreeClassifier\n",
    "from sklearn.svm import LinearSVC\n",
    "from xgboost import XGBClassifier\n",
    "\n",
    "# emoji\n",
    "!pip install emoji\n",
    "import emoji\n",
    "\n",
    "import pickle"
   ]
  },
  {
   "cell_type": "code",
   "execution_count": null,
   "metadata": {
    "id": "Z6IpYDqJW6lz"
   },
   "outputs": [],
   "source": []
  },
  {
   "cell_type": "markdown",
   "metadata": {
    "id": "stwAkU4mV00j"
   },
   "source": [
    "## Data Preparation"
   ]
  },
  {
   "cell_type": "markdown",
   "metadata": {
    "id": "ZFir9Zoh8Euy"
   },
   "source": [
    "The data we use is from a Kaggle dataset in which the task is to do sentiment analysis on a set of tagged Twitter tweets regarding COVID-19 pandemic. Each tweet has been labeled with emotions, so this is a supervised classification task. \n",
    "\n",
    "To see the dataset, you can click the following link:\n",
    "https://www.kaggle.com/gpreda/covid19-tweets"
   ]
  },
  {
   "cell_type": "code",
   "execution_count": 24,
   "metadata": {
    "id": "WluZ8OTFV0Zu"
   },
   "outputs": [],
   "source": [
    "df = pd.read_csv(r'dataset\\Corona_NLP_Kaggle_dataset.csv')"
   ]
  },
  {
   "cell_type": "markdown",
   "metadata": {
    "id": "JB-husCf8zal"
   },
   "source": [
    "The kaggle dataset has divided the dataset into train and test dataset. However, for a thorough dataset exploration, we'll combine both dataset. Later, during the model creation process, we'll divide the combined data into our own train and test split, using the sklearn function ```train_test_split```."
   ]
  },
  {
   "cell_type": "code",
   "execution_count": 25,
   "metadata": {
    "colab": {
     "base_uri": "https://localhost:8080/",
     "height": 202
    },
    "id": "ecjY3wsP-D9f",
    "outputId": "7df644aa-cc56-4cc0-a060-1f31c3f72c78"
   },
   "outputs": [
    {
     "data": {
      "text/html": [
       "<div>\n",
       "<style scoped>\n",
       "    .dataframe tbody tr th:only-of-type {\n",
       "        vertical-align: middle;\n",
       "    }\n",
       "\n",
       "    .dataframe tbody tr th {\n",
       "        vertical-align: top;\n",
       "    }\n",
       "\n",
       "    .dataframe thead th {\n",
       "        text-align: right;\n",
       "    }\n",
       "</style>\n",
       "<table border=\"1\" class=\"dataframe\">\n",
       "  <thead>\n",
       "    <tr style=\"text-align: right;\">\n",
       "      <th></th>\n",
       "      <th>UserName</th>\n",
       "      <th>ScreenName</th>\n",
       "      <th>Location</th>\n",
       "      <th>TweetAt</th>\n",
       "      <th>OriginalTweet</th>\n",
       "      <th>Sentiment</th>\n",
       "    </tr>\n",
       "  </thead>\n",
       "  <tbody>\n",
       "    <tr>\n",
       "      <th>0</th>\n",
       "      <td>1</td>\n",
       "      <td>44953</td>\n",
       "      <td>NYC</td>\n",
       "      <td>02-03-2020</td>\n",
       "      <td>TRENDING: New Yorkers encounter empty supermar...</td>\n",
       "      <td>Extremely Negative</td>\n",
       "    </tr>\n",
       "    <tr>\n",
       "      <th>1</th>\n",
       "      <td>2</td>\n",
       "      <td>44954</td>\n",
       "      <td>Seattle, WA</td>\n",
       "      <td>02-03-2020</td>\n",
       "      <td>When I couldn't find hand sanitizer at Fred Me...</td>\n",
       "      <td>Positive</td>\n",
       "    </tr>\n",
       "    <tr>\n",
       "      <th>2</th>\n",
       "      <td>3</td>\n",
       "      <td>44955</td>\n",
       "      <td>NaN</td>\n",
       "      <td>02-03-2020</td>\n",
       "      <td>Find out how you can protect yourself and love...</td>\n",
       "      <td>Extremely Positive</td>\n",
       "    </tr>\n",
       "    <tr>\n",
       "      <th>3</th>\n",
       "      <td>4</td>\n",
       "      <td>44956</td>\n",
       "      <td>Chicagoland</td>\n",
       "      <td>02-03-2020</td>\n",
       "      <td>#Panic buying hits #NewYork City as anxious sh...</td>\n",
       "      <td>Negative</td>\n",
       "    </tr>\n",
       "    <tr>\n",
       "      <th>4</th>\n",
       "      <td>5</td>\n",
       "      <td>44957</td>\n",
       "      <td>Melbourne, Victoria</td>\n",
       "      <td>03-03-2020</td>\n",
       "      <td>#toiletpaper #dunnypaper #coronavirus #coronav...</td>\n",
       "      <td>Neutral</td>\n",
       "    </tr>\n",
       "  </tbody>\n",
       "</table>\n",
       "</div>"
      ],
      "text/plain": [
       "   UserName  ScreenName             Location     TweetAt  \\\n",
       "0         1       44953                  NYC  02-03-2020   \n",
       "1         2       44954          Seattle, WA  02-03-2020   \n",
       "2         3       44955                  NaN  02-03-2020   \n",
       "3         4       44956          Chicagoland  02-03-2020   \n",
       "4         5       44957  Melbourne, Victoria  03-03-2020   \n",
       "\n",
       "                                       OriginalTweet           Sentiment  \n",
       "0  TRENDING: New Yorkers encounter empty supermar...  Extremely Negative  \n",
       "1  When I couldn't find hand sanitizer at Fred Me...            Positive  \n",
       "2  Find out how you can protect yourself and love...  Extremely Positive  \n",
       "3  #Panic buying hits #NewYork City as anxious sh...            Negative  \n",
       "4  #toiletpaper #dunnypaper #coronavirus #coronav...             Neutral  "
      ]
     },
     "execution_count": 25,
     "metadata": {},
     "output_type": "execute_result"
    }
   ],
   "source": [
    "df = df.reset_index(drop = True)\n",
    "df.head()"
   ]
  },
  {
   "cell_type": "markdown",
   "metadata": {
    "id": "MWmQNcly-Hcf"
   },
   "source": [
    "There are 6 columns. We're going to remove the UserName and ScreenName column as they serve no purpose. "
   ]
  },
  {
   "cell_type": "code",
   "execution_count": 26,
   "metadata": {
    "colab": {
     "base_uri": "https://localhost:8080/"
    },
    "id": "HfQFMyYr-4nU",
    "outputId": "3c782579-c85d-45b8-8ad0-07f1a07bdffb"
   },
   "outputs": [
    {
     "data": {
      "text/plain": [
       "Location         9424\n",
       "TweetAt             0\n",
       "OriginalTweet       0\n",
       "Sentiment           0\n",
       "dtype: int64"
      ]
     },
     "execution_count": 26,
     "metadata": {},
     "output_type": "execute_result"
    }
   ],
   "source": [
    "df = df.drop(['UserName', 'ScreenName'], axis = 'columns')\n",
    "df.isna().sum() #check for missing values"
   ]
  },
  {
   "cell_type": "code",
   "execution_count": 27,
   "metadata": {
    "colab": {
     "base_uri": "https://localhost:8080/"
    },
    "id": "Jw3scMw3_Hrg",
    "outputId": "2a66447f-4729-43aa-a5e2-9c4e9326340b"
   },
   "outputs": [
    {
     "data": {
      "text/plain": [
       "United States           603\n",
       "London, England         568\n",
       "London                  565\n",
       "New York, NY            429\n",
       "Washington, DC          411\n",
       "                       ... \n",
       "California, Usa           1\n",
       "Newport, Oregon, USA      1\n",
       "India, unplugged          1\n",
       "Skelmersdale, UK          1\n",
       "SW PA                     1\n",
       "Name: Location, Length: 13127, dtype: int64"
      ]
     },
     "execution_count": 27,
     "metadata": {},
     "output_type": "execute_result"
    }
   ],
   "source": [
    "df.Location.value_counts()"
   ]
  },
  {
   "cell_type": "markdown",
   "metadata": {
    "id": "jf395KDD_Lan"
   },
   "source": [
    "There seems to be a lot of missing values for Location, and upon further inspection, the location given in these tweets are vague and often does not describe any location at all. \n",
    "\n",
    "Unless, there's a town named 'Watching TV in the Kitchen' or a city called 'Cyberspace!!!'"
   ]
  },
  {
   "cell_type": "code",
   "execution_count": 28,
   "metadata": {
    "id": "Fi6lUDXw_oIo"
   },
   "outputs": [],
   "source": [
    "df = df.drop(['Location'], axis = 'columns')"
   ]
  },
  {
   "cell_type": "code",
   "execution_count": 29,
   "metadata": {
    "colab": {
     "base_uri": "https://localhost:8080/",
     "height": 202
    },
    "id": "RTUNkwe2_yDe",
    "outputId": "ca9585dc-1187-4da3-ac0f-33634494360a"
   },
   "outputs": [
    {
     "data": {
      "text/html": [
       "<div>\n",
       "<style scoped>\n",
       "    .dataframe tbody tr th:only-of-type {\n",
       "        vertical-align: middle;\n",
       "    }\n",
       "\n",
       "    .dataframe tbody tr th {\n",
       "        vertical-align: top;\n",
       "    }\n",
       "\n",
       "    .dataframe thead th {\n",
       "        text-align: right;\n",
       "    }\n",
       "</style>\n",
       "<table border=\"1\" class=\"dataframe\">\n",
       "  <thead>\n",
       "    <tr style=\"text-align: right;\">\n",
       "      <th></th>\n",
       "      <th>TweetAt</th>\n",
       "      <th>OriginalTweet</th>\n",
       "      <th>Sentiment</th>\n",
       "    </tr>\n",
       "  </thead>\n",
       "  <tbody>\n",
       "    <tr>\n",
       "      <th>0</th>\n",
       "      <td>02-03-2020</td>\n",
       "      <td>TRENDING: New Yorkers encounter empty supermar...</td>\n",
       "      <td>Extremely Negative</td>\n",
       "    </tr>\n",
       "    <tr>\n",
       "      <th>1</th>\n",
       "      <td>02-03-2020</td>\n",
       "      <td>When I couldn't find hand sanitizer at Fred Me...</td>\n",
       "      <td>Positive</td>\n",
       "    </tr>\n",
       "    <tr>\n",
       "      <th>2</th>\n",
       "      <td>02-03-2020</td>\n",
       "      <td>Find out how you can protect yourself and love...</td>\n",
       "      <td>Extremely Positive</td>\n",
       "    </tr>\n",
       "    <tr>\n",
       "      <th>3</th>\n",
       "      <td>02-03-2020</td>\n",
       "      <td>#Panic buying hits #NewYork City as anxious sh...</td>\n",
       "      <td>Negative</td>\n",
       "    </tr>\n",
       "    <tr>\n",
       "      <th>4</th>\n",
       "      <td>03-03-2020</td>\n",
       "      <td>#toiletpaper #dunnypaper #coronavirus #coronav...</td>\n",
       "      <td>Neutral</td>\n",
       "    </tr>\n",
       "  </tbody>\n",
       "</table>\n",
       "</div>"
      ],
      "text/plain": [
       "      TweetAt                                      OriginalTweet  \\\n",
       "0  02-03-2020  TRENDING: New Yorkers encounter empty supermar...   \n",
       "1  02-03-2020  When I couldn't find hand sanitizer at Fred Me...   \n",
       "2  02-03-2020  Find out how you can protect yourself and love...   \n",
       "3  02-03-2020  #Panic buying hits #NewYork City as anxious sh...   \n",
       "4  03-03-2020  #toiletpaper #dunnypaper #coronavirus #coronav...   \n",
       "\n",
       "            Sentiment  \n",
       "0  Extremely Negative  \n",
       "1            Positive  \n",
       "2  Extremely Positive  \n",
       "3            Negative  \n",
       "4             Neutral  "
      ]
     },
     "execution_count": 29,
     "metadata": {},
     "output_type": "execute_result"
    }
   ],
   "source": [
    "df.head()"
   ]
  },
  {
   "cell_type": "code",
   "execution_count": 30,
   "metadata": {
    "colab": {
     "base_uri": "https://localhost:8080/"
    },
    "id": "L7bzW6wJ_1lp",
    "outputId": "940154e4-be59-4334-fae0-eba98980e455"
   },
   "outputs": [
    {
     "data": {
      "text/plain": [
       "Positive              12369\n",
       "Negative              10958\n",
       "Neutral                8332\n",
       "Extremely Positive     7223\n",
       "Extremely Negative     6073\n",
       "Name: Sentiment, dtype: int64"
      ]
     },
     "execution_count": 30,
     "metadata": {},
     "output_type": "execute_result"
    }
   ],
   "source": [
    "df.Sentiment.value_counts()"
   ]
  },
  {
   "cell_type": "code",
   "execution_count": 31,
   "metadata": {
    "colab": {
     "base_uri": "https://localhost:8080/",
     "height": 297
    },
    "id": "eRwn0E9vX196",
    "outputId": "71bb095e-5a86-49dd-ce18-5662b42da5bf"
   },
   "outputs": [
    {
     "data": {
      "text/plain": [
       "<AxesSubplot:xlabel='Sentiment', ylabel='count'>"
      ]
     },
     "execution_count": 31,
     "metadata": {},
     "output_type": "execute_result"
    },
    {
     "data": {
      "image/png": "[encoded data removed]",
      "text/plain": [
       "<Figure size 432x288 with 1 Axes>"
      ]
     },
     "metadata": {
      "needs_background": "light"
     },
     "output_type": "display_data"
    }
   ],
   "source": [
    "sns.countplot(x = 'Sentiment', data = df, \n",
    "              order = ['Extremely Positive', 'Positive', 'Neutral', 'Negative', 'Extremely Negative'])"
   ]
  },
  {
   "cell_type": "markdown",
   "metadata": {
    "id": "JrQpVe8va2A7"
   },
   "source": [
    "As we can see, there are five classes of Sentiment. For this exercise, we'll combine the 'Extremely' classes to 'Positive' and 'Negative', so we'll end up with only 3 classes: Positive, Neutral, and Negative.\n",
    "\n",
    "We'll encode them into numbers: Negative = 0, Neutral = 1, and Positive = 2.\n",
    "\n",
    "The number of 'Positive' and 'Negative' class members will be around 14000 respectively each, while the number of 'Neutral' class members remains at around 8000. "
   ]
  },
  {
   "cell_type": "code",
   "execution_count": 32,
   "metadata": {
    "id": "VG6PttXwbMx9"
   },
   "outputs": [],
   "source": [
    "S_num = list()\n",
    "S_text = list()\n",
    "for label in df.Sentiment:\n",
    "  if 'positive' in str(label).lower():\n",
    "    S_num.append(2)\n",
    "    S_text.append('Positive')\n",
    "  elif 'negative' in str(label).lower():\n",
    "    S_num.append(0)\n",
    "    S_text.append('Negative')\n",
    "  else:\n",
    "    S_num.append(1)\n",
    "    S_text.append('Neutral')\n",
    "df = df.drop(['Sentiment'], axis = 'columns')\n",
    "df['SentimentCode'] = S_num\n",
    "df['Sentiment'] = S_text"
   ]
  },
  {
   "cell_type": "code",
   "execution_count": 33,
   "metadata": {
    "colab": {
     "base_uri": "https://localhost:8080/",
     "height": 297
    },
    "id": "rziQClRGcb-w",
    "outputId": "91846904-a209-4878-d8c4-5e82c03ba0e7"
   },
   "outputs": [
    {
     "data": {
      "text/plain": [
       "<AxesSubplot:xlabel='Sentiment', ylabel='count'>"
      ]
     },
     "execution_count": 33,
     "metadata": {},
     "output_type": "execute_result"
    },
    {
     "data": {
      "image/png": "[encoded data removed]",
      "text/plain": [
       "<Figure size 432x288 with 1 Axes>"
      ]
     },
     "metadata": {
      "needs_background": "light"
     },
     "output_type": "display_data"
    }
   ],
   "source": [
    "sns.countplot(x = 'Sentiment', data = df)"
   ]
  },
  {
   "cell_type": "markdown",
   "metadata": {
    "id": "eaFjhwm9clw8"
   },
   "source": [
    "Next, just for fun, let's see if there is any relationship between sentiment of tweets and when the tweet was posted."
   ]
  },
  {
   "cell_type": "code",
   "execution_count": 34,
   "metadata": {
    "id": "vpTCSWpUccC_"
   },
   "outputs": [],
   "source": [
    "date_all = pd.to_datetime(df.TweetAt, format = '%d-%m-%Y')\n",
    "df['day'] = date_all.dt.day_name()\n",
    "df['date'] = date_all.dt.day\n",
    "df['month'] = date_all.dt.month"
   ]
  },
  {
   "cell_type": "code",
   "execution_count": 35,
   "metadata": {
    "id": "EqdDPDYuccA9"
   },
   "outputs": [],
   "source": [
    "df = df[['OriginalTweet', 'Sentiment', 'SentimentCode', 'day', 'date', 'month']]"
   ]
  },
  {
   "cell_type": "code",
   "execution_count": 36,
   "metadata": {
    "colab": {
     "base_uri": "https://localhost:8080/",
     "height": 459
    },
    "id": "MW7oL_HHcb8V",
    "outputId": "96b71275-c9c0-4193-f340-e5f81d44f299"
   },
   "outputs": [
    {
     "data": {
      "text/plain": [
       "<seaborn.axisgrid.FacetGrid at 0x2934b0d0d00>"
      ]
     },
     "execution_count": 36,
     "metadata": {},
     "output_type": "execute_result"
    },
    {
     "data": {
      "image/png": "[encoded data removed]",
      "text/plain": [
       "<Figure size 864x432 with 7 Axes>"
      ]
     },
     "metadata": {
      "needs_background": "light"
     },
     "output_type": "display_data"
    }
   ],
   "source": [
    "g = sns.FacetGrid(df, col=\"day\", col_wrap = 4).set_xlabels()\n",
    "g.map(sns.histplot, \"Sentiment\")"
   ]
  },
  {
   "cell_type": "markdown",
   "metadata": {
    "id": "3Gd38Wlm_2GW"
   },
   "source": [
    "Based on the plots above, tweets generated on Monday usually are Negative ones, maybe because it's Monday. Other than Monday, it seems that the number of Positive tweets in each days outnumber the number of Negative and Neutral tweets. \n",
    "\n",
    "If that statement above make us conclude that people actually aren't that salty about COVID-19 (so they complain less in general, and tweet positive things), we might come to a wrong conclusion.\n",
    "\n",
    "Remember, this is Twitter, and tweets with extremely negative remarks often come with derogatory language, disinformation, and/or other things that Twitter usually ban. \n",
    "\n",
    "So, there might be more negative tweets out there - they weren't recorded because they got deleted or removed by Twitter. "
   ]
  },
  {
   "cell_type": "code",
   "execution_count": 37,
   "metadata": {
    "colab": {
     "base_uri": "https://localhost:8080/",
     "height": 891
    },
    "id": "kkWNsOZDktx5",
    "outputId": "e0eeabd4-a433-4c0d-a16a-f87220754ff7"
   },
   "outputs": [
    {
     "data": {
      "text/plain": [
       "<seaborn.axisgrid.FacetGrid at 0x2934a0a82b0>"
      ]
     },
     "execution_count": 37,
     "metadata": {},
     "output_type": "execute_result"
    },
    {
     "data": {
      "image/png": "[encoded data removed]",
      "text/plain": [
       "<Figure size 648x216 with 2 Axes>"
      ]
     },
     "metadata": {
      "needs_background": "light"
     },
     "output_type": "display_data"
    }
   ],
   "source": [
    "g = sns.FacetGrid(df, col=\"month\", col_wrap = 3).set_xlabels()\n",
    "g.map(sns.histplot, \"Sentiment\")"
   ]
  },
  {
   "cell_type": "markdown",
   "metadata": {
    "id": "AzYNT2w6BTnN"
   },
   "source": [
    "The above multigrid plots show that most tweets that we collect are from the 3rd month. The third month of 2020 is when COVID news really took off, and since most people were struck in panic, the tweets are mostly Negative. But 'Neutral' tweets come at a close second place, so we also cannot argue that 'a tweet in the 3rd month is mostly Negative'.\n",
    "\n",
    "It seems that drawing visualizations of the number of tweets and time does not give us insights which can be used as features. "
   ]
  },
  {
   "cell_type": "markdown",
   "metadata": {
    "id": "FS6o1GP7CSYl"
   },
   "source": [
    "## Data Preprocessing"
   ]
  },
  {
   "cell_type": "markdown",
   "metadata": {
    "id": "bC2D9DIrCtYQ"
   },
   "source": [
    "Our tweets cannot be directly fed into machine learning models as they are not yet cleaned. Tweets often have mentions, hashtags, links, or symbols which may confuse our model since they are not 'pure words'. You can refresh the cell below to see a random tweet with their sentiment."
   ]
  },
  {
   "cell_type": "code",
   "execution_count": 38,
   "metadata": {
    "colab": {
     "base_uri": "https://localhost:8080/"
    },
    "id": "qxouV3F3-9IL",
    "outputId": "973146b2-5095-4ae0-d14a-7e2ee434d333"
   },
   "outputs": [
    {
     "name": "stdout",
     "output_type": "stream",
     "text": [
      "The Tweet:\n",
      "What the actual fuck!? Nobody should be letting their teens out the house. School and the mall are CLOSED! #Covid_19 #badparenting https://t.co/8WCGuTxdMo\n",
      "Sentiment:\n",
      "Negative\n"
     ]
    }
   ],
   "source": [
    "import random\n",
    "from random import randint\n",
    "\n",
    "rand_index = randint(0,40000)\n",
    "print('The Tweet:')\n",
    "print(df.OriginalTweet[rand_index])\n",
    "print('Sentiment:')\n",
    "print(df.Sentiment[rand_index])"
   ]
  },
  {
   "cell_type": "markdown",
   "metadata": {
    "id": "oEW0nhvYEbw6"
   },
   "source": [
    "Let's see the top single word that appears in our tweets (before we clean them). Single words are called unigram in NLP terms."
   ]
  },
  {
   "cell_type": "code",
   "execution_count": 39,
   "metadata": {
    "colab": {
     "base_uri": "https://localhost:8080/",
     "height": 355
    },
    "id": "BpjlOntUEUbT",
    "outputId": "dbfabf35-7127-41b3-8d18-d25e42784221"
   },
   "outputs": [
    {
     "data": {
      "text/html": [
       "<div>\n",
       "<style scoped>\n",
       "    .dataframe tbody tr th:only-of-type {\n",
       "        vertical-align: middle;\n",
       "    }\n",
       "\n",
       "    .dataframe tbody tr th {\n",
       "        vertical-align: top;\n",
       "    }\n",
       "\n",
       "    .dataframe thead th {\n",
       "        text-align: right;\n",
       "    }\n",
       "</style>\n",
       "<table border=\"1\" class=\"dataframe\">\n",
       "  <thead>\n",
       "    <tr style=\"text-align: right;\">\n",
       "      <th></th>\n",
       "      <th>Words</th>\n",
       "      <th>Amount</th>\n",
       "    </tr>\n",
       "  </thead>\n",
       "  <tbody>\n",
       "    <tr>\n",
       "      <th>0</th>\n",
       "      <td>the</td>\n",
       "      <td>49141</td>\n",
       "    </tr>\n",
       "    <tr>\n",
       "      <th>1</th>\n",
       "      <td>to</td>\n",
       "      <td>42219</td>\n",
       "    </tr>\n",
       "    <tr>\n",
       "      <th>2</th>\n",
       "      <td>and</td>\n",
       "      <td>26554</td>\n",
       "    </tr>\n",
       "    <tr>\n",
       "      <th>3</th>\n",
       "      <td>co</td>\n",
       "      <td>25956</td>\n",
       "    </tr>\n",
       "    <tr>\n",
       "      <th>4</th>\n",
       "      <td>https</td>\n",
       "      <td>25832</td>\n",
       "    </tr>\n",
       "    <tr>\n",
       "      <th>5</th>\n",
       "      <td>of</td>\n",
       "      <td>23616</td>\n",
       "    </tr>\n",
       "    <tr>\n",
       "      <th>6</th>\n",
       "      <td>in</td>\n",
       "      <td>21170</td>\n",
       "    </tr>\n",
       "    <tr>\n",
       "      <th>7</th>\n",
       "      <td>coronavirus</td>\n",
       "      <td>19677</td>\n",
       "    </tr>\n",
       "    <tr>\n",
       "      <th>8</th>\n",
       "      <td>for</td>\n",
       "      <td>15408</td>\n",
       "    </tr>\n",
       "    <tr>\n",
       "      <th>9</th>\n",
       "      <td>is</td>\n",
       "      <td>13581</td>\n",
       "    </tr>\n",
       "  </tbody>\n",
       "</table>\n",
       "</div>"
      ],
      "text/plain": [
       "         Words  Amount\n",
       "0          the   49141\n",
       "1           to   42219\n",
       "2          and   26554\n",
       "3           co   25956\n",
       "4        https   25832\n",
       "5           of   23616\n",
       "6           in   21170\n",
       "7  coronavirus   19677\n",
       "8          for   15408\n",
       "9           is   13581"
      ]
     },
     "execution_count": 39,
     "metadata": {},
     "output_type": "execute_result"
    }
   ],
   "source": [
    "def most_words(text, ngram, n):\n",
    "  count = CountVectorizer(ngram_range=(ngram, ngram)).fit(text)\n",
    "  vocab = count.transform(text)\n",
    "  word_sum = vocab.sum(axis = 0)\n",
    "  freq = [(word, word_sum[0, index]) for word, index in count.vocabulary_.items()]\n",
    "  freq = sorted(freq, key = lambda x: x[1], reverse=True)\n",
    "  return freq[:n]\n",
    "\n",
    "most_frequent_single_words = most_words(df.OriginalTweet, ngram=1, n=10)\n",
    "df_1word = pd.DataFrame(most_frequent_single_words, columns = ['Words', 'Amount'])\n",
    "df_1word"
   ]
  },
  {
   "cell_type": "markdown",
   "metadata": {
    "id": "iQzjxNltG1hj"
   },
   "source": [
    "This is why we need to clean our tweets. The most common words are without any meaning. Let's look at the most common 'two-words'. 'Two-words' are called bigrams in NLP terms."
   ]
  },
  {
   "cell_type": "code",
   "execution_count": 40,
   "metadata": {
    "colab": {
     "base_uri": "https://localhost:8080/",
     "height": 355
    },
    "id": "TEPWNQX3EUdk",
    "outputId": "40bc507c-5302-489f-fad3-ce779fdae6ec"
   },
   "outputs": [
    {
     "data": {
      "text/html": [
       "<div>\n",
       "<style scoped>\n",
       "    .dataframe tbody tr th:only-of-type {\n",
       "        vertical-align: middle;\n",
       "    }\n",
       "\n",
       "    .dataframe tbody tr th {\n",
       "        vertical-align: top;\n",
       "    }\n",
       "\n",
       "    .dataframe thead th {\n",
       "        text-align: right;\n",
       "    }\n",
       "</style>\n",
       "<table border=\"1\" class=\"dataframe\">\n",
       "  <thead>\n",
       "    <tr style=\"text-align: right;\">\n",
       "      <th></th>\n",
       "      <th>Words</th>\n",
       "      <th>Amount</th>\n",
       "    </tr>\n",
       "  </thead>\n",
       "  <tbody>\n",
       "    <tr>\n",
       "      <th>0</th>\n",
       "      <td>https co</td>\n",
       "      <td>25796</td>\n",
       "    </tr>\n",
       "    <tr>\n",
       "      <th>1</th>\n",
       "      <td>covid 19</td>\n",
       "      <td>12413</td>\n",
       "    </tr>\n",
       "    <tr>\n",
       "      <th>2</th>\n",
       "      <td>grocery store</td>\n",
       "      <td>5450</td>\n",
       "    </tr>\n",
       "    <tr>\n",
       "      <th>3</th>\n",
       "      <td>to the</td>\n",
       "      <td>4237</td>\n",
       "    </tr>\n",
       "    <tr>\n",
       "      <th>4</th>\n",
       "      <td>in the</td>\n",
       "      <td>4008</td>\n",
       "    </tr>\n",
       "    <tr>\n",
       "      <th>5</th>\n",
       "      <td>of the</td>\n",
       "      <td>3310</td>\n",
       "    </tr>\n",
       "    <tr>\n",
       "      <th>6</th>\n",
       "      <td>the grocery</td>\n",
       "      <td>2497</td>\n",
       "    </tr>\n",
       "    <tr>\n",
       "      <th>7</th>\n",
       "      <td>the coronavirus</td>\n",
       "      <td>2351</td>\n",
       "    </tr>\n",
       "    <tr>\n",
       "      <th>8</th>\n",
       "      <td>the supermarket</td>\n",
       "      <td>2064</td>\n",
       "    </tr>\n",
       "    <tr>\n",
       "      <th>9</th>\n",
       "      <td>due to</td>\n",
       "      <td>1981</td>\n",
       "    </tr>\n",
       "  </tbody>\n",
       "</table>\n",
       "</div>"
      ],
      "text/plain": [
       "             Words  Amount\n",
       "0         https co   25796\n",
       "1         covid 19   12413\n",
       "2    grocery store    5450\n",
       "3           to the    4237\n",
       "4           in the    4008\n",
       "5           of the    3310\n",
       "6      the grocery    2497\n",
       "7  the coronavirus    2351\n",
       "8  the supermarket    2064\n",
       "9           due to    1981"
      ]
     },
     "execution_count": 40,
     "metadata": {},
     "output_type": "execute_result"
    }
   ],
   "source": [
    "most_frequent_two_words = most_words(df.OriginalTweet, ngram=2, n=10)\n",
    "df_2word = pd.DataFrame(most_frequent_two_words, columns = ['Words', 'Amount'])\n",
    "df_2word\n"
   ]
  },
  {
   "cell_type": "markdown",
   "metadata": {
    "id": "0aWibbyKHr6I"
   },
   "source": [
    "I rest my case. I come accross a medium article that serves as a great general guideline on how to preprocess our text before feeding it to a model. Here's the article: https://towardsdatascience.com/a-beginners-guide-to-preprocessing-text-data-using-nlp-tools-5cb52a8d3cd\n",
    "\n",
    "We're going to preprocess our tweets with steps alike to the ones provided in the article."
   ]
  },
  {
   "cell_type": "code",
   "execution_count": 41,
   "metadata": {
    "id": "y87JggqIZQWF"
   },
   "outputs": [],
   "source": [
    "#removing punctuation\n",
    "punct =[]\n",
    "punct += list(string.punctuation)\n",
    "punct += '’'\n",
    "punct.remove(\"'\")\n",
    "def remove_punctuations(text):\n",
    "    for punctuation in punct:\n",
    "        text = text.replace(punctuation, ' ')\n",
    "    return text"
   ]
  },
  {
   "cell_type": "code",
   "execution_count": 42,
   "metadata": {
    "id": "oO28JbQEZTV8"
   },
   "outputs": [],
   "source": [
    "#remove emoji\n",
    "def char_is_emoji(character):\n",
    "    return character in emoji.UNICODE_EMOJI\n",
    "\n",
    "def text_has_emoji(text):\n",
    "    for character in text:\n",
    "        if character in emoji.UNICODE_EMOJI:\n",
    "            return True\n",
    "    return False\n",
    "\n",
    "def deEmojify(inputString):\n",
    "    return inputString.encode('ascii', 'ignore').decode('ascii')"
   ]
  },
  {
   "cell_type": "code",
   "execution_count": 43,
   "metadata": {
    "id": "k5R6R1wEILJy"
   },
   "outputs": [],
   "source": [
    "#string manipulation to clean the tweets\n",
    "def clean_nlp(df): \n",
    "    #lowercase the text\n",
    "    df['cleaned_tweet'] = df['OriginalTweet'].apply(lambda x: x.lower())\n",
    "    #getting rid of whitespaces\n",
    "    df['cleaned_tweet'] = df['cleaned_tweet'].apply(lambda x: x.replace('\\n', ' '))\n",
    "    #remove links\n",
    "    df['cleaned_tweet'] = df['cleaned_tweet'].str.replace('http\\S+|www.\\S+', '', case=False)\n",
    "    #removing '>'\n",
    "    df['cleaned_tweet'] = df['cleaned_tweet'].apply(lambda x: x.replace('&gt;', ''))\n",
    "    #removing '<'\n",
    "    df['cleaned_tweet'] = df['cleaned_tweet'].apply(lambda x: x.replace('&lt;', ''))\n",
    "    #checking emoji\n",
    "    df['emoji'] = df['cleaned_tweet'].apply(lambda x: text_has_emoji(x))\n",
    "    #remove emoji\n",
    "    df['cleaned_tweet'] = df['cleaned_tweet'].apply(lambda x: deEmojify(x))\n",
    "    #remove punctuation\n",
    "    df['cleaned_tweet'] = df['cleaned_tweet'].apply(remove_punctuations)\n",
    "    #remove ' s ' that was created after removing punctuations\n",
    "    df['cleaned_tweet'] = df['cleaned_tweet'].apply(lambda x: str(x).replace(\" s \", \" \"))\n",
    "    return df"
   ]
  },
  {
   "cell_type": "code",
   "execution_count": 44,
   "metadata": {
    "id": "AlslS8lzZ8KG"
   },
   "outputs": [],
   "source": [
    "df = clean_nlp(df)"
   ]
  },
  {
   "cell_type": "code",
   "execution_count": 45,
   "metadata": {
    "colab": {
     "base_uri": "https://localhost:8080/"
    },
    "id": "yp0au_cjOLDG",
    "outputId": "3f03b1b2-4b74-417f-ba58-ba5b2d082743"
   },
   "outputs": [
    {
     "data": {
      "text/plain": [
       "0        trending  new yorkers encounter empty supermar...\n",
       "1        when i couldn't find hand sanitizer at fred me...\n",
       "2        find out how you can protect yourself and love...\n",
       "3         panic buying hits  newyork city as anxious sh...\n",
       "4         toiletpaper  dunnypaper  coronavirus  coronav...\n",
       "                               ...                        \n",
       "44950    airline pilots offering to stock supermarket s...\n",
       "44951    response to complaint not provided citing covi...\n",
       "44952    you know its getting tough when  kameronwilds ...\n",
       "44953    is it wrong that the smell of hand sanitizer i...\n",
       "44954     tartiicat well new used rift are going for  7...\n",
       "Name: cleaned_tweet, Length: 44955, dtype: object"
      ]
     },
     "execution_count": 45,
     "metadata": {},
     "output_type": "execute_result"
    }
   ],
   "source": [
    "df.cleaned_tweet"
   ]
  },
  {
   "cell_type": "markdown",
   "metadata": {
    "id": "2InU93IMeQWL"
   },
   "source": [
    "## Lemmatization using NLTK WordNet"
   ]
  },
  {
   "cell_type": "markdown",
   "metadata": {
    "id": "RzaJ6AgDeUTc"
   },
   "source": [
    "Lemmatization is the step of changing words into their basic form. For example, the basic form of 'caring', 'cares', is 'care'. Lemmatization will find all other forms of 'care', and change it into 'care'.\n",
    "\n",
    "Another alternative to lemmatization is stemming. Stemming does not change words - it trims a few letters on each words' end in an attempt to turn these words into their 'basic' form. But this is dangerous - 'caring' will get turned into 'car', which is an entirely different word.\n",
    "\n",
    "English word lemmatization can be done by using a few packages in Python. We'll try this one using NLTK WordNet."
   ]
  },
  {
   "cell_type": "code",
   "execution_count": 46,
   "metadata": {
    "colab": {
     "base_uri": "https://localhost:8080/"
    },
    "id": "uSslcOafN1Vy",
    "outputId": "442d1a71-7c58-4146-d455-fbeadc193f6b"
   },
   "outputs": [
    {
     "name": "stderr",
     "output_type": "stream",
     "text": [
      "[nltk_data] Downloading package wordnet to\n",
      "[nltk_data]     C:\\Users\\grady\\AppData\\Roaming\\nltk_data...\n",
      "[nltk_data]   Unzipping corpora\\wordnet.zip.\n"
     ]
    }
   ],
   "source": [
    "import nltk\n",
    "nltk.download('wordnet')\n",
    "from nltk.stem import WordNetLemmatizer\n",
    "lemmatizer = WordNetLemmatizer()\n",
    "def lemmatize(text):\n",
    "  temp = []\n",
    "  for word in text.split():\n",
    "    word = lemmatizer.lemmatize(word)\n",
    "    temp.append(word)\n",
    "\n",
    "  return ' '.join(temp)\n"
   ]
  },
  {
   "cell_type": "code",
   "execution_count": 47,
   "metadata": {
    "id": "MX0tqs-of3bA"
   },
   "outputs": [],
   "source": [
    "df['lemmatized'] = df['cleaned_tweet'].apply(lambda x: lemmatize(x))\n",
    "#After lemmatization, some pronouns are changed to '-PRON' and we're going to remove it\n",
    "df['lemmatized'] = df['lemmatized'].apply(lambda x: x.replace('-PRON-', ' '))"
   ]
  },
  {
   "cell_type": "code",
   "execution_count": 48,
   "metadata": {
    "colab": {
     "base_uri": "https://localhost:8080/"
    },
    "id": "UqmuOGyoOE8a",
    "outputId": "617bbce3-2644-4fbb-bd2e-8197e14c3d7c"
   },
   "outputs": [
    {
     "data": {
      "text/plain": [
       "0        trending new yorkers encounter empty supermark...\n",
       "1        when i couldn't find hand sanitizer at fred me...\n",
       "2        find out how you can protect yourself and love...\n",
       "3        panic buying hit newyork city a anxious shoppe...\n",
       "4        toiletpaper dunnypaper coronavirus coronavirus...\n",
       "                               ...                        \n",
       "44950    airline pilot offering to stock supermarket sh...\n",
       "44951    response to complaint not provided citing covi...\n",
       "44952    you know it getting tough when kameronwilds is...\n",
       "44953    is it wrong that the smell of hand sanitizer i...\n",
       "44954    tartiicat well new used rift are going for 700...\n",
       "Name: lemmatized, Length: 44955, dtype: object"
      ]
     },
     "execution_count": 48,
     "metadata": {},
     "output_type": "execute_result"
    }
   ],
   "source": [
    "df.lemmatized"
   ]
  },
  {
   "cell_type": "markdown",
   "metadata": {
    "id": "NxF9G-7eiBs5"
   },
   "source": [
    "## Tokenization"
   ]
  },
  {
   "cell_type": "markdown",
   "metadata": {
    "id": "hd83SAWGicym"
   },
   "source": [
    "Tokenization is the process of turning the texts into tokens. The most common tokenization method is breaking sentences into each words. "
   ]
  },
  {
   "cell_type": "code",
   "execution_count": 49,
   "metadata": {
    "id": "Pg3uGa1Kiy2E"
   },
   "outputs": [],
   "source": [
    "df['tokenized_tweet'] = df['lemmatized'].apply(word_tokenize)"
   ]
  },
  {
   "cell_type": "markdown",
   "metadata": {
    "id": "gjQB9YKZiESn"
   },
   "source": [
    "## Removing Stop Words"
   ]
  },
  {
   "cell_type": "markdown",
   "metadata": {
    "id": "USbk9u-Ai_sy"
   },
   "source": [
    "Stop words are words that does not give any significant meaning as they can appear in both tweets with positive and negative sentiments, such as 'the', 'of', 'a', 'as', etc. \n",
    "\n",
    "A few Python packages contain stop words of English language. NLTK, Spacy, and even scikit-learn (sklearn) have built-in collection of words that they consider to be stop words.\n",
    "\n",
    "In this exercise, we'll use the scikit-learn stopwords."
   ]
  },
  {
   "cell_type": "code",
   "execution_count": 50,
   "metadata": {
    "id": "ADrfwNWu_kXc"
   },
   "outputs": [],
   "source": [
    "from sklearn.feature_extraction.text import ENGLISH_STOP_WORDS\n",
    "# create our own stop words set\n",
    "custom_set = set()\n",
    "# since 'coronavirus' and 'covid' appears in all 3 tweets, let's remove those words\n",
    "custom_set.add('coronavirus')\n",
    "custom_set.add('covid')\n",
    "for stopword in ENGLISH_STOP_WORDS:\n",
    "  custom_set.add(stopword)\n",
    "df['tokenized_tweet'] = df['tokenized_tweet'].apply(lambda word_list: [x for x in word_list if x not in custom_set])"
   ]
  },
  {
   "cell_type": "markdown",
   "metadata": {
    "id": "E9krIo-YiHk2"
   },
   "source": [
    "## Removing Numbers"
   ]
  },
  {
   "cell_type": "code",
   "execution_count": 51,
   "metadata": {
    "id": "V6u0CHESBXje"
   },
   "outputs": [],
   "source": [
    "df['tokenized_tweet'] = df['tokenized_tweet'].apply(lambda list_data: [x for x in list_data if x.isalpha()])"
   ]
  },
  {
   "cell_type": "code",
   "execution_count": 52,
   "metadata": {
    "colab": {
     "base_uri": "https://localhost:8080/"
    },
    "id": "CCgVbR7mO99U",
    "outputId": "69d36eb7-bae6-4e7f-f4e1-7da067954447"
   },
   "outputs": [
    {
     "data": {
      "text/plain": [
       "0        [trending, new, yorkers, encounter, supermarke...\n",
       "1        [hand, sanitizer, fred, meyer, turned, amazon,...\n",
       "2                                         [protect, loved]\n",
       "3        [panic, buying, hit, newyork, city, anxious, s...\n",
       "4        [toiletpaper, dunnypaper, coronavirusaustralia...\n",
       "                               ...                        \n",
       "44950    [airline, pilot, offering, stock, supermarket,...\n",
       "44951    [response, complaint, provided, citing, relate...\n",
       "44952    [know, getting, tough, kameronwilds, rationing...\n",
       "44953      [wrong, smell, hand, sanitizer, starting, turn]\n",
       "44954    [tartiicat, new, used, rift, going, amazon, rn...\n",
       "Name: tokenized_tweet, Length: 44955, dtype: object"
      ]
     },
     "execution_count": 52,
     "metadata": {},
     "output_type": "execute_result"
    }
   ],
   "source": [
    "df.tokenized_tweet"
   ]
  },
  {
   "cell_type": "code",
   "execution_count": 53,
   "metadata": {
    "id": "ibmb46i_aU-4"
   },
   "outputs": [],
   "source": [
    "finale = list()\n",
    "for list_of_words in df.tokenized_tweet:\n",
    "  finale.append(' '.join(list_of_words))\n",
    "\n",
    "df['final_text'] = finale "
   ]
  },
  {
   "cell_type": "code",
   "execution_count": 54,
   "metadata": {
    "colab": {
     "base_uri": "https://localhost:8080/"
    },
    "id": "LwWczOHRcRZy",
    "outputId": "e752023c-9391-4bc4-80fd-7a011b618843"
   },
   "outputs": [
    {
     "data": {
      "text/plain": [
       "0        trending new yorkers encounter supermarket she...\n",
       "1        hand sanitizer fred meyer turned amazon pack p...\n",
       "2                                            protect loved\n",
       "3        panic buying hit newyork city anxious shopper ...\n",
       "4        toiletpaper dunnypaper coronavirusaustralia co...\n",
       "                               ...                        \n",
       "44950    airline pilot offering stock supermarket shelf...\n",
       "44951    response complaint provided citing related del...\n",
       "44952    know getting tough kameronwilds rationing toil...\n",
       "44953             wrong smell hand sanitizer starting turn\n",
       "44954    tartiicat new used rift going amazon rn normal...\n",
       "Name: final_text, Length: 44955, dtype: object"
      ]
     },
     "execution_count": 54,
     "metadata": {},
     "output_type": "execute_result"
    }
   ],
   "source": [
    "df.final_text"
   ]
  },
  {
   "cell_type": "markdown",
   "metadata": {
    "id": "KrxWH9fUqiY8"
   },
   "source": [
    "## Top Bigrams of the Cleaned Tweets"
   ]
  },
  {
   "cell_type": "markdown",
   "metadata": {
    "id": "yQzUSEPVq634"
   },
   "source": [
    "### Bigrams for Positive Tweets"
   ]
  },
  {
   "cell_type": "code",
   "execution_count": 55,
   "metadata": {
    "colab": {
     "base_uri": "https://localhost:8080/",
     "height": 355
    },
    "id": "V565XBuGqoOi",
    "outputId": "a6f5477b-8d56-48c6-d343-49ea6d60e52b"
   },
   "outputs": [
    {
     "data": {
      "text/html": [
       "<div>\n",
       "<style scoped>\n",
       "    .dataframe tbody tr th:only-of-type {\n",
       "        vertical-align: middle;\n",
       "    }\n",
       "\n",
       "    .dataframe tbody tr th {\n",
       "        vertical-align: top;\n",
       "    }\n",
       "\n",
       "    .dataframe thead th {\n",
       "        text-align: right;\n",
       "    }\n",
       "</style>\n",
       "<table border=\"1\" class=\"dataframe\">\n",
       "  <thead>\n",
       "    <tr style=\"text-align: right;\">\n",
       "      <th></th>\n",
       "      <th>Words</th>\n",
       "      <th>Amount</th>\n",
       "    </tr>\n",
       "  </thead>\n",
       "  <tbody>\n",
       "    <tr>\n",
       "      <th>0</th>\n",
       "      <td>grocery store</td>\n",
       "      <td>2766</td>\n",
       "    </tr>\n",
       "    <tr>\n",
       "      <th>1</th>\n",
       "      <td>hand sanitizer</td>\n",
       "      <td>1399</td>\n",
       "    </tr>\n",
       "    <tr>\n",
       "      <th>2</th>\n",
       "      <td>online shopping</td>\n",
       "      <td>758</td>\n",
       "    </tr>\n",
       "    <tr>\n",
       "      <th>3</th>\n",
       "      <td>toilet paper</td>\n",
       "      <td>605</td>\n",
       "    </tr>\n",
       "    <tr>\n",
       "      <th>4</th>\n",
       "      <td>social distancing</td>\n",
       "      <td>330</td>\n",
       "    </tr>\n",
       "    <tr>\n",
       "      <th>5</th>\n",
       "      <td>store worker</td>\n",
       "      <td>324</td>\n",
       "    </tr>\n",
       "    <tr>\n",
       "      <th>6</th>\n",
       "      <td>stay home</td>\n",
       "      <td>316</td>\n",
       "    </tr>\n",
       "    <tr>\n",
       "      <th>7</th>\n",
       "      <td>stay safe</td>\n",
       "      <td>304</td>\n",
       "    </tr>\n",
       "    <tr>\n",
       "      <th>8</th>\n",
       "      <td>stock food</td>\n",
       "      <td>270</td>\n",
       "    </tr>\n",
       "    <tr>\n",
       "      <th>9</th>\n",
       "      <td>retail store</td>\n",
       "      <td>267</td>\n",
       "    </tr>\n",
       "  </tbody>\n",
       "</table>\n",
       "</div>"
      ],
      "text/plain": [
       "               Words  Amount\n",
       "0      grocery store    2766\n",
       "1     hand sanitizer    1399\n",
       "2    online shopping     758\n",
       "3       toilet paper     605\n",
       "4  social distancing     330\n",
       "5       store worker     324\n",
       "6          stay home     316\n",
       "7          stay safe     304\n",
       "8         stock food     270\n",
       "9       retail store     267"
      ]
     },
     "execution_count": 55,
     "metadata": {},
     "output_type": "execute_result"
    }
   ],
   "source": [
    "bigram_positive = most_words(df[df['Sentiment']=='Positive'].final_text, \n",
    "                                        ngram=2, n=10)\n",
    "df_bigram_pos = pd.DataFrame(bigram_positive, columns = ['Words', 'Amount'])\n",
    "df_bigram_pos"
   ]
  },
  {
   "cell_type": "markdown",
   "metadata": {
    "id": "wtWatZOPrqU1"
   },
   "source": [
    "## Bigrams for Neutral Tweets"
   ]
  },
  {
   "cell_type": "code",
   "execution_count": 56,
   "metadata": {
    "colab": {
     "base_uri": "https://localhost:8080/",
     "height": 355
    },
    "id": "z8bf0UXVrqU3",
    "outputId": "727cbdb0-5dc0-4d34-f14f-34be0af1a364"
   },
   "outputs": [
    {
     "data": {
      "text/html": [
       "<div>\n",
       "<style scoped>\n",
       "    .dataframe tbody tr th:only-of-type {\n",
       "        vertical-align: middle;\n",
       "    }\n",
       "\n",
       "    .dataframe tbody tr th {\n",
       "        vertical-align: top;\n",
       "    }\n",
       "\n",
       "    .dataframe thead th {\n",
       "        text-align: right;\n",
       "    }\n",
       "</style>\n",
       "<table border=\"1\" class=\"dataframe\">\n",
       "  <thead>\n",
       "    <tr style=\"text-align: right;\">\n",
       "      <th></th>\n",
       "      <th>Words</th>\n",
       "      <th>Amount</th>\n",
       "    </tr>\n",
       "  </thead>\n",
       "  <tbody>\n",
       "    <tr>\n",
       "      <th>0</th>\n",
       "      <td>grocery store</td>\n",
       "      <td>1091</td>\n",
       "    </tr>\n",
       "    <tr>\n",
       "      <th>1</th>\n",
       "      <td>online shopping</td>\n",
       "      <td>347</td>\n",
       "    </tr>\n",
       "    <tr>\n",
       "      <th>2</th>\n",
       "      <td>toilet paper</td>\n",
       "      <td>319</td>\n",
       "    </tr>\n",
       "    <tr>\n",
       "      <th>3</th>\n",
       "      <td>social distancing</td>\n",
       "      <td>127</td>\n",
       "    </tr>\n",
       "    <tr>\n",
       "      <th>4</th>\n",
       "      <td>oil price</td>\n",
       "      <td>124</td>\n",
       "    </tr>\n",
       "    <tr>\n",
       "      <th>5</th>\n",
       "      <td>retail store</td>\n",
       "      <td>117</td>\n",
       "    </tr>\n",
       "    <tr>\n",
       "      <th>6</th>\n",
       "      <td>consumer behavior</td>\n",
       "      <td>115</td>\n",
       "    </tr>\n",
       "    <tr>\n",
       "      <th>7</th>\n",
       "      <td>stock food</td>\n",
       "      <td>103</td>\n",
       "    </tr>\n",
       "    <tr>\n",
       "      <th>8</th>\n",
       "      <td>grocery shopping</td>\n",
       "      <td>83</td>\n",
       "    </tr>\n",
       "    <tr>\n",
       "      <th>9</th>\n",
       "      <td>shopping online</td>\n",
       "      <td>80</td>\n",
       "    </tr>\n",
       "  </tbody>\n",
       "</table>\n",
       "</div>"
      ],
      "text/plain": [
       "               Words  Amount\n",
       "0      grocery store    1091\n",
       "1    online shopping     347\n",
       "2       toilet paper     319\n",
       "3  social distancing     127\n",
       "4          oil price     124\n",
       "5       retail store     117\n",
       "6  consumer behavior     115\n",
       "7         stock food     103\n",
       "8   grocery shopping      83\n",
       "9    shopping online      80"
      ]
     },
     "execution_count": 56,
     "metadata": {},
     "output_type": "execute_result"
    }
   ],
   "source": [
    "bigram_neutral = most_words(df[df['Sentiment']=='Neutral'].final_text, \n",
    "                                        ngram=2, n=10)\n",
    "df_bigram_neu = pd.DataFrame(bigram_neutral, columns = ['Words', 'Amount'])\n",
    "df_bigram_neu"
   ]
  },
  {
   "cell_type": "markdown",
   "metadata": {
    "id": "sBTnwhrNr_EJ"
   },
   "source": [
    "### Bigrams for Negative Tweets"
   ]
  },
  {
   "cell_type": "code",
   "execution_count": 57,
   "metadata": {
    "colab": {
     "base_uri": "https://localhost:8080/",
     "height": 355
    },
    "id": "gO2xc6rJr_EL",
    "outputId": "4f61d5fe-2886-4b28-f469-db77669426fe"
   },
   "outputs": [
    {
     "data": {
      "text/html": [
       "<div>\n",
       "<style scoped>\n",
       "    .dataframe tbody tr th:only-of-type {\n",
       "        vertical-align: middle;\n",
       "    }\n",
       "\n",
       "    .dataframe tbody tr th {\n",
       "        vertical-align: top;\n",
       "    }\n",
       "\n",
       "    .dataframe thead th {\n",
       "        text-align: right;\n",
       "    }\n",
       "</style>\n",
       "<table border=\"1\" class=\"dataframe\">\n",
       "  <thead>\n",
       "    <tr style=\"text-align: right;\">\n",
       "      <th></th>\n",
       "      <th>Words</th>\n",
       "      <th>Amount</th>\n",
       "    </tr>\n",
       "  </thead>\n",
       "  <tbody>\n",
       "    <tr>\n",
       "      <th>0</th>\n",
       "      <td>grocery store</td>\n",
       "      <td>2020</td>\n",
       "    </tr>\n",
       "    <tr>\n",
       "      <th>1</th>\n",
       "      <td>panic buying</td>\n",
       "      <td>1124</td>\n",
       "    </tr>\n",
       "    <tr>\n",
       "      <th>2</th>\n",
       "      <td>oil price</td>\n",
       "      <td>744</td>\n",
       "    </tr>\n",
       "    <tr>\n",
       "      <th>3</th>\n",
       "      <td>toilet paper</td>\n",
       "      <td>653</td>\n",
       "    </tr>\n",
       "    <tr>\n",
       "      <th>4</th>\n",
       "      <td>online shopping</td>\n",
       "      <td>487</td>\n",
       "    </tr>\n",
       "    <tr>\n",
       "      <th>5</th>\n",
       "      <td>supermarket shelf</td>\n",
       "      <td>304</td>\n",
       "    </tr>\n",
       "    <tr>\n",
       "      <th>6</th>\n",
       "      <td>food bank</td>\n",
       "      <td>301</td>\n",
       "    </tr>\n",
       "    <tr>\n",
       "      <th>7</th>\n",
       "      <td>supply chain</td>\n",
       "      <td>260</td>\n",
       "    </tr>\n",
       "    <tr>\n",
       "      <th>8</th>\n",
       "      <td>food supply</td>\n",
       "      <td>255</td>\n",
       "    </tr>\n",
       "    <tr>\n",
       "      <th>9</th>\n",
       "      <td>stock food</td>\n",
       "      <td>222</td>\n",
       "    </tr>\n",
       "  </tbody>\n",
       "</table>\n",
       "</div>"
      ],
      "text/plain": [
       "               Words  Amount\n",
       "0      grocery store    2020\n",
       "1       panic buying    1124\n",
       "2          oil price     744\n",
       "3       toilet paper     653\n",
       "4    online shopping     487\n",
       "5  supermarket shelf     304\n",
       "6          food bank     301\n",
       "7       supply chain     260\n",
       "8        food supply     255\n",
       "9         stock food     222"
      ]
     },
     "execution_count": 57,
     "metadata": {},
     "output_type": "execute_result"
    }
   ],
   "source": [
    "bigram_negative = most_words(df[df['Sentiment']=='Negative'].final_text, \n",
    "                                        ngram=2, n=10)\n",
    "df_bigram_neg = pd.DataFrame(bigram_negative, columns = ['Words', 'Amount'])\n",
    "df_bigram_neg"
   ]
  },
  {
   "cell_type": "markdown",
   "metadata": {
    "id": "lP2mhtjqs4_e"
   },
   "source": [
    "We see that in the cleaned tweets, the top bigrams are not filled with stop words. Although some of the words appear in all three tables, we see that the Positive tweets have words such as 'social distancing', 'stay home', while Negative tweets have words related to 'panic buying'."
   ]
  },
  {
   "cell_type": "markdown",
   "metadata": {
    "id": "VLOrtEMDQA8A"
   },
   "source": [
    "## TF-IDF Vectorization"
   ]
  },
  {
   "cell_type": "markdown",
   "metadata": {
    "id": "0_Xn3vfcMN5P"
   },
   "source": [
    "TF-IDF (Term Frequency-Inverse Document Frequency) is an algorithm which transforms text into vectors of numbers which is then passed into machine learning algorithms for classification/prediction tasks.\n",
    "\n",
    "The idea of NLP is how machine learning (or deep learning) models can recognize human language - and the current way to achieve that is by transforming sentences, words - into numerical vectors.\n",
    "\n",
    "Now, let's conduct this algorithm on our preprocessed tweets."
   ]
  },
  {
   "cell_type": "code",
   "execution_count": 58,
   "metadata": {
    "id": "1GxXnmWSWR4q"
   },
   "outputs": [],
   "source": [
    "X = df.final_text.copy()\n",
    "y = df.SentimentCode.copy()"
   ]
  },
  {
   "cell_type": "code",
   "execution_count": 59,
   "metadata": {
    "colab": {
     "base_uri": "https://localhost:8080/"
    },
    "id": "-XU8mrQTZ66w",
    "outputId": "4ea479d6-305e-4693-abe7-c1504d52ea63"
   },
   "outputs": [
    {
     "data": {
      "text/plain": [
       "0        trending new yorkers encounter supermarket she...\n",
       "1        hand sanitizer fred meyer turned amazon pack p...\n",
       "2                                            protect loved\n",
       "3        panic buying hit newyork city anxious shopper ...\n",
       "4        toiletpaper dunnypaper coronavirusaustralia co...\n",
       "                               ...                        \n",
       "44950    airline pilot offering stock supermarket shelf...\n",
       "44951    response complaint provided citing related del...\n",
       "44952    know getting tough kameronwilds rationing toil...\n",
       "44953             wrong smell hand sanitizer starting turn\n",
       "44954    tartiicat new used rift going amazon rn normal...\n",
       "Name: final_text, Length: 44955, dtype: object"
      ]
     },
     "execution_count": 59,
     "metadata": {},
     "output_type": "execute_result"
    }
   ],
   "source": [
    "X"
   ]
  },
  {
   "cell_type": "code",
   "execution_count": 60,
   "metadata": {
    "colab": {
     "base_uri": "https://localhost:8080/"
    },
    "id": "IF_E6bKXILL8",
    "outputId": "42ef611c-b491-4c27-ca44-36295c00c06c"
   },
   "outputs": [
    {
     "data": {
      "text/plain": [
       "(44955, 23576)"
      ]
     },
     "execution_count": 60,
     "metadata": {},
     "output_type": "execute_result"
    }
   ],
   "source": [
    "Tfidf = TfidfVectorizer(min_df=5, ngram_range=(1, 2))\n",
    "# min_df = 5 means 'ignore the words that appear in less than 5 'rows'\n",
    "tfidf_v = Tfidf.fit_transform(X)\n",
    "tfidf_v.shape"
   ]
  },
  {
   "cell_type": "markdown",
   "metadata": {
    "id": "6DDa4rMhWpcb"
   },
   "source": [
    "## Training and Evaluating Classic Machine Learning Algorithms\n",
    "\n",
    "We'll train four machine learning classifiers and compare their performance in classifying the Sentiment of tweets. But first, we'll have to split our dataset into train-test split."
   ]
  },
  {
   "cell_type": "markdown",
   "metadata": {
    "id": "JLSrHLS6XnRj"
   },
   "source": [
    "### Splitting the Dataset"
   ]
  },
  {
   "cell_type": "code",
   "execution_count": 61,
   "metadata": {
    "id": "_bfx9PqKX0lB"
   },
   "outputs": [],
   "source": [
    "X_train, X_test, y_train, y_test = train_test_split(tfidf_v, y, test_size = 0.15, random_state = 42)\n",
    "def fit_and_eval(model):\n",
    "  model.fit(X_train, y_train)\n",
    "  predict = model.predict(X_test)\n",
    "  from sklearn.metrics import classification_report\n",
    "  print('Report:')\n",
    "  print(classification_report(y_test, predict))"
   ]
  },
  {
   "cell_type": "markdown",
   "metadata": {
    "id": "L35awfurW8B4"
   },
   "source": [
    "### Logistic Regression"
   ]
  },
  {
   "cell_type": "code",
   "execution_count": 62,
   "metadata": {
    "colab": {
     "base_uri": "https://localhost:8080/"
    },
    "id": "N1BCX7lOXkAW",
    "outputId": "d6c7cc68-dda6-4ff6-a7c0-f736ed7cb028"
   },
   "outputs": [
    {
     "name": "stdout",
     "output_type": "stream",
     "text": [
      "Report:\n",
      "              precision    recall  f1-score   support\n",
      "\n",
      "           0       0.79      0.81      0.80      2546\n",
      "           1       0.74      0.60      0.66      1257\n",
      "           2       0.80      0.85      0.82      2941\n",
      "\n",
      "    accuracy                           0.79      6744\n",
      "   macro avg       0.78      0.75      0.76      6744\n",
      "weighted avg       0.79      0.79      0.78      6744\n",
      "\n"
     ]
    }
   ],
   "source": [
    "from sklearn.linear_model import LogisticRegression\n",
    "lr = LogisticRegression(multi_class = 'multinomial', max_iter = 1000)\n",
    "lr.fit(X_train, y_train)\n",
    "fit_and_eval(lr)"
   ]
  },
  {
   "cell_type": "markdown",
   "metadata": {
    "id": "7-FeqwfrW-da"
   },
   "source": [
    "### Decision Tree Classifier"
   ]
  },
  {
   "cell_type": "code",
   "execution_count": 63,
   "metadata": {
    "colab": {
     "base_uri": "https://localhost:8080/"
    },
    "id": "8VYzUHy6ZN-s",
    "outputId": "4ccef61b-0b65-45cc-8f06-ddba251d83fc"
   },
   "outputs": [
    {
     "name": "stdout",
     "output_type": "stream",
     "text": [
      "Report:\n",
      "              precision    recall  f1-score   support\n",
      "\n",
      "           0       0.65      0.64      0.64      2546\n",
      "           1       0.53      0.57      0.55      1257\n",
      "           2       0.70      0.68      0.69      2941\n",
      "\n",
      "    accuracy                           0.64      6744\n",
      "   macro avg       0.62      0.63      0.63      6744\n",
      "weighted avg       0.65      0.64      0.64      6744\n",
      "\n"
     ]
    }
   ],
   "source": [
    "from sklearn.tree import DecisionTreeClassifier\n",
    "dt = DecisionTreeClassifier()\n",
    "dt.fit(X_train, y_train)\n",
    "fit_and_eval(dt)"
   ]
  },
  {
   "cell_type": "markdown",
   "metadata": {
    "id": "gs6GM6JnXVb6"
   },
   "source": [
    "### XGBoost Classifier"
   ]
  },
  {
   "cell_type": "code",
   "execution_count": 64,
   "metadata": {
    "colab": {
     "base_uri": "https://localhost:8080/"
    },
    "id": "rHuVIuOEZOyD",
    "outputId": "10fe72ee-2c1c-4706-ee7a-4ba6074df232"
   },
   "outputs": [
    {
     "name": "stdout",
     "output_type": "stream",
     "text": [
      "Report:\n",
      "              precision    recall  f1-score   support\n",
      "\n",
      "           0       0.79      0.74      0.76      2546\n",
      "           1       0.64      0.73      0.69      1257\n",
      "           2       0.79      0.79      0.79      2941\n",
      "\n",
      "    accuracy                           0.76      6744\n",
      "   macro avg       0.74      0.75      0.75      6744\n",
      "weighted avg       0.76      0.76      0.76      6744\n",
      "\n"
     ]
    }
   ],
   "source": [
    "from xgboost import XGBClassifier\n",
    "xgb = XGBClassifier()\n",
    "xgb.fit(X_train, y_train)\n",
    "fit_and_eval(xgb)"
   ]
  },
  {
   "cell_type": "markdown",
   "metadata": {
    "id": "M8zf5zaYXYmT"
   },
   "source": [
    "### Light GBM Classifier"
   ]
  },
  {
   "cell_type": "code",
   "execution_count": 65,
   "metadata": {
    "colab": {
     "base_uri": "https://localhost:8080/"
    },
    "id": "bELScVROZPoz",
    "outputId": "69447ce8-7212-4761-a147-1f55a3147320"
   },
   "outputs": [
    {
     "name": "stdout",
     "output_type": "stream",
     "text": [
      "Report:\n",
      "              precision    recall  f1-score   support\n",
      "\n",
      "           0       0.76      0.74      0.75      2546\n",
      "           1       0.67      0.65      0.66      1257\n",
      "           2       0.76      0.79      0.78      2941\n",
      "\n",
      "    accuracy                           0.75      6744\n",
      "   macro avg       0.73      0.73      0.73      6744\n",
      "weighted avg       0.74      0.75      0.75      6744\n",
      "\n"
     ]
    }
   ],
   "source": [
    "lgb = LGBMClassifier()\n",
    "lgb.fit(X_train, y_train)\n",
    "fit_and_eval(lgb)"
   ]
  },
  {
   "cell_type": "markdown",
   "metadata": {
    "id": "ZK7SzNVJdGSh"
   },
   "source": [
    "Out of four algorithms, we obtain the highest accuracy in Logistic Regression. Based on the report, our model predicts a 'Positive Sentiment' tweet a bit better than Negative and Neutral ones. \n",
    "\n",
    "Now, let's try to tackle this classification problem using Deep Learning with TensorFlow and Keras."
   ]
  },
  {
   "cell_type": "markdown",
   "metadata": {
    "id": "8iq4JxxoLuEd"
   },
   "source": [
    "## Saving ML Models"
   ]
  },
  {
   "cell_type": "code",
   "execution_count": 1,
   "metadata": {
    "collapsed": true,
    "id": "JTf3L8-ALv0V"
   },
   "outputs": [
    {
     "ename": "NameError",
     "evalue": "name 'lr' is not defined",
     "output_type": "error",
     "traceback": [
      "\u001b[1;31m---------------------------------------------------------------------------\u001b[0m",
      "\u001b[1;31mNameError\u001b[0m                                 Traceback (most recent call last)",
      "\u001b[1;32m<ipython-input-1-2be2889e5406>\u001b[0m in \u001b[0;36m<module>\u001b[1;34m\u001b[0m\n\u001b[0;32m      1\u001b[0m \u001b[1;31m# saving linear regression model\u001b[0m\u001b[1;33m\u001b[0m\u001b[1;33m\u001b[0m\u001b[1;33m\u001b[0m\u001b[0m\n\u001b[1;32m----> 2\u001b[1;33m \u001b[0mlr\u001b[0m\u001b[1;33m.\u001b[0m\u001b[0mfit\u001b[0m\u001b[1;33m(\u001b[0m\u001b[0mtfidf_v\u001b[0m\u001b[1;33m,\u001b[0m \u001b[0my\u001b[0m\u001b[1;33m)\u001b[0m\u001b[1;33m\u001b[0m\u001b[1;33m\u001b[0m\u001b[0m\n\u001b[0m\u001b[0;32m      3\u001b[0m \u001b[0mpickle\u001b[0m\u001b[1;33m.\u001b[0m\u001b[0mdump\u001b[0m\u001b[1;33m(\u001b[0m\u001b[0mlr\u001b[0m\u001b[1;33m,\u001b[0m \u001b[0mopen\u001b[0m\u001b[1;33m(\u001b[0m\u001b[1;34m\"lr.pickle\"\u001b[0m\u001b[1;33m,\u001b[0m \u001b[1;34m\"wb\"\u001b[0m\u001b[1;33m)\u001b[0m\u001b[1;33m)\u001b[0m\u001b[1;33m\u001b[0m\u001b[1;33m\u001b[0m\u001b[0m\n\u001b[0;32m      4\u001b[0m \u001b[1;33m\u001b[0m\u001b[0m\n\u001b[0;32m      5\u001b[0m \u001b[1;31m# saving decision tree model\u001b[0m\u001b[1;33m\u001b[0m\u001b[1;33m\u001b[0m\u001b[1;33m\u001b[0m\u001b[0m\n",
      "\u001b[1;31mNameError\u001b[0m: name 'lr' is not defined"
     ]
    }
   ],
   "source": [
    "# saving linear regression model\n",
    "lr.fit(tfidf_v, y)\n",
    "pickle.dump(lr, open(\"lr.pickle\", \"wb\"))\n",
    "\n",
    "# saving decision tree model\n",
    "dt.fit(tfidf_v, y)\n",
    "pickle.dump(dt, open(\"dt.pickle\", \"wb\"))\n",
    "\n",
    "# saving xgboost model\n",
    "xgb.fit(tfidf_v, y)\n",
    "pickle.dump(xgb, open(\"xgb.pickle\", \"wb\"))\n",
    "\n",
    "# saving lgbm model\n",
    "lgb.fit(tfidf_v, y)\n",
    "pickle.dump(lgb, open(\"lgb.pickle\", \"wb\"))\n"
   ]
  },
  {
   "cell_type": "code",
   "execution_count": null,
   "metadata": {},
   "outputs": [],
   "source": []
  },
  {
   "cell_type": "markdown",
   "metadata": {
    "id": "Q3XvTni5eGMl"
   },
   "source": [
    "## Deep Learning Sentiment Classification"
   ]
  },
  {
   "cell_type": "markdown",
   "metadata": {
    "id": "kVsHXrklejpD"
   },
   "source": [
    "We're going to use TensorFlow in this deep learning. The process is similar to what we did above - in fact, we're going to use ```df.final_text``` in this case. However, we're using keras' tokenizer to do the word embedding, and we're training the model using, well, a neural network model."
   ]
  },
  {
   "cell_type": "code",
   "execution_count": 46,
   "metadata": {
    "id": "-I5kJBi9gh7U"
   },
   "outputs": [],
   "source": [
    "X = df.final_text.copy()\n",
    "y = df.SentimentCode.copy()\n",
    "X_train, X_test, y_train, y_test = train_test_split(X, y, test_size = 0.15, random_state = 42)"
   ]
  },
  {
   "cell_type": "code",
   "execution_count": 47,
   "metadata": {
    "colab": {
     "base_uri": "https://localhost:8080/"
    },
    "id": "Hr_-Cl3SvfhB",
    "outputId": "9f0a2986-fd9e-4a25-d9a7-00f3cae334b4"
   },
   "outputs": [
    {
     "data": {
      "text/plain": [
       "33054    2\n",
       "33564    2\n",
       "32707    2\n",
       "13252    0\n",
       "37837    2\n",
       "        ..\n",
       "36024    1\n",
       "3442     2\n",
       "631      2\n",
       "19110    1\n",
       "40905    0\n",
       "Name: SentimentCode, Length: 6744, dtype: int64"
      ]
     },
     "execution_count": 47,
     "metadata": {
      "tags": []
     },
     "output_type": "execute_result"
    }
   ],
   "source": [
    "y_test"
   ]
  },
  {
   "cell_type": "code",
   "execution_count": 48,
   "metadata": {
    "id": "XVcSqM6PWL97"
   },
   "outputs": [],
   "source": [
    "#maximum number of distinct words recognized\n",
    "vocab_size = 40000 \n",
    "#embedding dimension\n",
    "embedding_dim = 32\n",
    "#maximum length of vector\n",
    "max_length = 130\n",
    "#truncation type\n",
    "trunc_type='post'\n",
    "#out of vocabulary token (what to label words that does not exist in vocabulary)\n",
    "oov_tok = \"<OOV>\"\n",
    "\n",
    "\n",
    "from tensorflow.keras.preprocessing.text import Tokenizer\n",
    "from tensorflow.keras.preprocessing.sequence import pad_sequences\n",
    "# Tokenize our tweets\n",
    "tokenizer = Tokenizer(num_words = vocab_size, oov_token=oov_tok)\n",
    "tokenizer.fit_on_texts(X_train)\n",
    "word_index = tokenizer.word_index\n",
    "sequences = tokenizer.texts_to_sequences(X_train)\n",
    "padded = pad_sequences(sequences,maxlen=max_length, truncating=trunc_type)\n",
    "\n",
    "testing_sequences = tokenizer.texts_to_sequences(X_test)\n",
    "testing_padded = pad_sequences(testing_sequences,maxlen=max_length)\n"
   ]
  },
  {
   "cell_type": "markdown",
   "metadata": {
    "id": "tWWstDAenA-L"
   },
   "source": [
    "After tokenizing and padding our tweets, we'll create a model to train it. This model involves multiple layers of neural networks, and the highlight here is the Bidirectional LSTM layer, which is explained further in my medium post linked to this notebook."
   ]
  },
  {
   "cell_type": "code",
   "execution_count": 49,
   "metadata": {
    "colab": {
     "base_uri": "https://localhost:8080/"
    },
    "id": "aMK5ejEmWMMC",
    "outputId": "b1ac5060-65df-4eac-8659-e23257d8da4a"
   },
   "outputs": [
    {
     "name": "stdout",
     "output_type": "stream",
     "text": [
      "Model: \"sequential\"\n",
      "_________________________________________________________________\n",
      "Layer (type)                 Output Shape              Param #   \n",
      "=================================================================\n",
      "embedding (Embedding)        (None, 130, 16)           640000    \n",
      "_________________________________________________________________\n",
      "batch_normalization (BatchNo (None, 130, 16)           64        \n",
      "_________________________________________________________________\n",
      "bidirectional (Bidirectional (None, 130, 512)          559104    \n",
      "_________________________________________________________________\n",
      "global_max_pooling1d (Global (None, 512)               0         \n",
      "_________________________________________________________________\n",
      "dropout (Dropout)            (None, 512)               0         \n",
      "_________________________________________________________________\n",
      "dense (Dense)                (None, 32)                16416     \n",
      "_________________________________________________________________\n",
      "dense_1 (Dense)              (None, 3)                 99        \n",
      "=================================================================\n",
      "Total params: 1,215,683\n",
      "Trainable params: 1,215,651\n",
      "Non-trainable params: 32\n",
      "_________________________________________________________________\n",
      "Epoch 1/3\n",
      "1195/1195 [==============================] - 35s 29ms/step - loss: 0.6450 - accuracy: 0.7293 - val_loss: 0.4693 - val_accuracy: 0.8394\n",
      "Epoch 2/3\n",
      "1195/1195 [==============================] - 34s 29ms/step - loss: 0.3786 - accuracy: 0.8715 - val_loss: 0.4703 - val_accuracy: 0.8387\n",
      "Epoch 3/3\n",
      "1195/1195 [==============================] - 34s 28ms/step - loss: 0.2528 - accuracy: 0.9147 - val_loss: 0.5170 - val_accuracy: 0.8292\n"
     ]
    }
   ],
   "source": [
    "# Model Definition with LSTM\n",
    "tf.keras.backend.clear_session()\n",
    "from tensorflow.keras.losses import SparseCategoricalCrossentropy\n",
    "\n",
    "# hyper parameters\n",
    "embedding_dim = 16\n",
    "units = 256\n",
    "\n",
    "model = tf.keras.Sequential([\n",
    "    # word embedding layer\n",
    "    tf.keras.layers.Embedding(vocab_size, embedding_dim, input_length=max_length),\n",
    "    # normalization layer\n",
    "    tf.keras.layers.BatchNormalization(),\n",
    "    # Bidirectional LSTM\n",
    "    tf.keras.layers.Bidirectional(tf.keras.layers.LSTM(units,return_sequences=True)),\n",
    "    # Pooling layer\n",
    "    tf.keras.layers.GlobalMaxPool1D(),\n",
    "    # Adding dropout layer to avoid overfitting\n",
    "    tf.keras.layers.Dropout(0.5),\n",
    "    # Dense layer\n",
    "    tf.keras.layers.Dense(32, activation=\"relu\"),\n",
    "    # Output layer. The unit size is 3 since we have 3 different classes\n",
    "    tf.keras.layers.Dense(3, activation='sigmoid')\n",
    "])\n",
    "\n",
    "# Since our target is classification into '0', '1', or '2'....\n",
    "# ...the loss function is Sparse Categorical Crossentropy\n",
    "# Read more about keras loss functions in their documentation\n",
    "model.compile(loss=SparseCategoricalCrossentropy(),\n",
    "              optimizer='adam',metrics=['accuracy']\n",
    "             )\n",
    "\n",
    "model.summary()\n",
    "\n",
    "num_epochs = 3\n",
    "history = model.fit(padded, y_train, epochs=num_epochs, validation_data=(testing_padded, y_test))\n"
   ]
  },
  {
   "cell_type": "code",
   "execution_count": 50,
   "metadata": {
    "colab": {
     "base_uri": "https://localhost:8080/",
     "height": 541
    },
    "id": "v8RypQg77xmC",
    "outputId": "fa0a18db-c8e3-4950-eef4-a7e1cb51f928"
   },
   "outputs": [
    {
     "data": {
      "image/png": "[encoded data removed]",
      "text/plain": [
       "<Figure size 432x288 with 1 Axes>"
      ]
     },
     "metadata": {
      "needs_background": "light",
      "tags": []
     },
     "output_type": "display_data"
    },
    {
     "data": {
      "image/png": "[encoded data removed]",
      "text/plain": [
       "<Figure size 432x288 with 1 Axes>"
      ]
     },
     "metadata": {
      "needs_background": "light",
      "tags": []
     },
     "output_type": "display_data"
    }
   ],
   "source": [
    "import matplotlib.pyplot as plt\n",
    "\n",
    "\n",
    "def plot_graphs(history, string):\n",
    "  plt.plot(history.history[string])\n",
    "  plt.plot(history.history['val_'+string])\n",
    "  plt.xlabel(\"Epochs\")\n",
    "  plt.ylabel(string)\n",
    "  plt.legend([string, 'val_'+string])\n",
    "  plt.show()\n",
    "\n",
    "plot_graphs(history, 'accuracy')\n",
    "plot_graphs(history, 'loss')"
   ]
  },
  {
   "cell_type": "markdown",
   "metadata": {
    "id": "UA4NSIybjSyb"
   },
   "source": [
    "It seems we're overfitting. Let's reduce the training to 2 epochs only and tweak the model a bit."
   ]
  },
  {
   "cell_type": "code",
   "execution_count": 51,
   "metadata": {
    "colab": {
     "base_uri": "https://localhost:8080/"
    },
    "id": "L7ixz_vdjZ5s",
    "outputId": "1380b7a2-7f24-4501-c8bf-612d94d778e9"
   },
   "outputs": [
    {
     "name": "stdout",
     "output_type": "stream",
     "text": [
      "Model: \"sequential\"\n",
      "_________________________________________________________________\n",
      "Layer (type)                 Output Shape              Param #   \n",
      "=================================================================\n",
      "embedding (Embedding)        (None, 130, 16)           640000    \n",
      "_________________________________________________________________\n",
      "batch_normalization (BatchNo (None, 130, 16)           64        \n",
      "_________________________________________________________________\n",
      "bidirectional (Bidirectional (None, 130, 1024)         2166784   \n",
      "_________________________________________________________________\n",
      "global_max_pooling1d (Global (None, 1024)              0         \n",
      "_________________________________________________________________\n",
      "dropout (Dropout)            (None, 1024)              0         \n",
      "_________________________________________________________________\n",
      "dense (Dense)                (None, 64)                65600     \n",
      "_________________________________________________________________\n",
      "dropout_1 (Dropout)          (None, 64)                0         \n",
      "_________________________________________________________________\n",
      "dense_1 (Dense)              (None, 3)                 195       \n",
      "=================================================================\n",
      "Total params: 2,872,643\n",
      "Trainable params: 2,872,611\n",
      "Non-trainable params: 32\n",
      "_________________________________________________________________\n",
      "Epoch 1/2\n",
      "1195/1195 [==============================] - 64s 53ms/step - loss: 0.6579 - accuracy: 0.7288 - val_loss: 0.4979 - val_accuracy: 0.8311\n",
      "Epoch 2/2\n",
      "1195/1195 [==============================] - 63s 53ms/step - loss: 0.3935 - accuracy: 0.8670 - val_loss: 0.4643 - val_accuracy: 0.8405\n"
     ]
    }
   ],
   "source": [
    "# Model Definition with LSTM\n",
    "tf.keras.backend.clear_session()\n",
    "from tensorflow.keras.losses import SparseCategoricalCrossentropy\n",
    "\n",
    "# hyper parameters\n",
    "embedding_dim = 16\n",
    "units = 512\n",
    "\n",
    "model = tf.keras.Sequential([\n",
    "    tf.keras.layers.Embedding(vocab_size, embedding_dim, input_length=max_length),\n",
    "    tf.keras.layers.BatchNormalization(),\n",
    "    tf.keras.layers.Bidirectional(tf.keras.layers.LSTM(units,return_sequences=True)),\n",
    "    tf.keras.layers.GlobalMaxPool1D(),\n",
    "    tf.keras.layers.Dropout(0.2),\n",
    "    tf.keras.layers.Dense(64, activation=\"relu\"),\n",
    "    tf.keras.layers.Dropout(0.2),\n",
    "    tf.keras.layers.Dense(3, activation='sigmoid')\n",
    "])\n",
    "\n",
    "model.compile(loss=SparseCategoricalCrossentropy(),\n",
    "              optimizer='nadam',metrics=['accuracy']\n",
    "             )\n",
    "\n",
    "model.summary()\n",
    "\n",
    "num_epochs = 2\n",
    "history = model.fit(padded, y_train, epochs=num_epochs, validation_data=(testing_padded, y_test))\n"
   ]
  },
  {
   "cell_type": "code",
   "execution_count": 52,
   "metadata": {
    "colab": {
     "base_uri": "https://localhost:8080/",
     "height": 541
    },
    "id": "oQH19J4skHxp",
    "outputId": "7835e2b6-ceb1-422f-a301-ba0c204d3b53"
   },
   "outputs": [
    {
     "data": {
      "image/png": "[encoded data removed]",
      "text/plain": [
       "<Figure size 432x288 with 1 Axes>"
      ]
     },
     "metadata": {
      "needs_background": "light",
      "tags": []
     },
     "output_type": "display_data"
    },
    {
     "data": {
      "image/png": "[encoded data removed]",
      "text/plain": [
       "<Figure size 432x288 with 1 Axes>"
      ]
     },
     "metadata": {
      "needs_background": "light",
      "tags": []
     },
     "output_type": "display_data"
    }
   ],
   "source": [
    "import matplotlib.pyplot as plt\n",
    "\n",
    "\n",
    "def plot_graphs(history, string):\n",
    "  plt.plot(history.history[string])\n",
    "  plt.plot(history.history['val_'+string])\n",
    "  plt.xlabel(\"Epochs\")\n",
    "  plt.ylabel(string)\n",
    "  plt.legend([string, 'val_'+string])\n",
    "  plt.show()\n",
    "\n",
    "plot_graphs(history, 'accuracy')\n",
    "plot_graphs(history, 'loss')"
   ]
  },
  {
   "cell_type": "markdown",
   "metadata": {
    "id": "p8TKA6W7kJ4Z"
   },
   "source": [
    "With just two epochs, we managed to get an accuracy of around 83%. Let's make a classification report and see how it compares against our machine learning models."
   ]
  },
  {
   "cell_type": "code",
   "execution_count": 53,
   "metadata": {
    "id": "QO0Jg4AgkTkF"
   },
   "outputs": [],
   "source": [
    "prediction = model.predict(testing_padded)"
   ]
  },
  {
   "cell_type": "code",
   "execution_count": 54,
   "metadata": {
    "colab": {
     "base_uri": "https://localhost:8080/"
    },
    "id": "-wxhVDLAlLDY",
    "outputId": "61f30be0-ba0c-4af6-c89d-2073e2a683d3"
   },
   "outputs": [
    {
     "data": {
      "text/plain": [
       "array([[1.5799212e-03, 4.3437598e-04, 9.9999237e-01],\n",
       "       [2.0867933e-03, 6.5331563e-04, 9.9998248e-01],\n",
       "       [8.9527160e-01, 3.0214639e-02, 4.4205523e-01],\n",
       "       ...,\n",
       "       [7.1321540e-02, 1.9254729e-02, 9.9485403e-01],\n",
       "       [1.4512123e-01, 9.7232598e-01, 5.8041107e-02],\n",
       "       [9.4713652e-01, 6.9610164e-02, 2.9997790e-01]], dtype=float32)"
      ]
     },
     "execution_count": 54,
     "metadata": {
      "tags": []
     },
     "output_type": "execute_result"
    }
   ],
   "source": [
    "prediction"
   ]
  },
  {
   "cell_type": "code",
   "execution_count": 55,
   "metadata": {
    "id": "AXMjWf4pleeU"
   },
   "outputs": [],
   "source": [
    "deep_learning_prediction = list()\n",
    "for _ in prediction:\n",
    "  deep_learning_prediction.append(np.argmax(_))"
   ]
  },
  {
   "cell_type": "code",
   "execution_count": 56,
   "metadata": {
    "colab": {
     "base_uri": "https://localhost:8080/"
    },
    "id": "ioxoe0Ovlaqv",
    "outputId": "703e68d5-e2c1-4113-a517-470c88eeb6da"
   },
   "outputs": [
    {
     "name": "stdout",
     "output_type": "stream",
     "text": [
      "              precision    recall  f1-score   support\n",
      "\n",
      "           0       0.81      0.87      0.84      2527\n",
      "           1       0.84      0.72      0.77      1294\n",
      "           2       0.87      0.87      0.87      2923\n",
      "\n",
      "    accuracy                           0.84      6744\n",
      "   macro avg       0.84      0.82      0.83      6744\n",
      "weighted avg       0.84      0.84      0.84      6744\n",
      "\n"
     ]
    }
   ],
   "source": [
    "from sklearn.metrics import classification_report\n",
    "\n",
    "print(classification_report(y_test, deep_learning_prediction))"
   ]
  },
  {
   "cell_type": "markdown",
   "metadata": {
    "id": "j4qlqqr1oead"
   },
   "source": [
    "That's a better classification report than our four machine learning algorithms. Before saving our model, we'll train our latest model once again using all data.\n"
   ]
  },
  {
   "cell_type": "code",
   "execution_count": 63,
   "metadata": {
    "colab": {
     "base_uri": "https://localhost:8080/"
    },
    "id": "LU8IAn2yOwNW",
    "outputId": "a6eae161-f367-4858-d192-501d4443ef73"
   },
   "outputs": [
    {
     "name": "stdout",
     "output_type": "stream",
     "text": [
      "Model: \"sequential\"\n",
      "_________________________________________________________________\n",
      "Layer (type)                 Output Shape              Param #   \n",
      "=================================================================\n",
      "embedding (Embedding)        (None, 130, 16)           640000    \n",
      "_________________________________________________________________\n",
      "batch_normalization (BatchNo (None, 130, 16)           64        \n",
      "_________________________________________________________________\n",
      "bidirectional (Bidirectional (None, 130, 1024)         2166784   \n",
      "_________________________________________________________________\n",
      "global_max_pooling1d (Global (None, 1024)              0         \n",
      "_________________________________________________________________\n",
      "dropout (Dropout)            (None, 1024)              0         \n",
      "_________________________________________________________________\n",
      "dense (Dense)                (None, 64)                65600     \n",
      "_________________________________________________________________\n",
      "dropout_1 (Dropout)          (None, 64)                0         \n",
      "_________________________________________________________________\n",
      "dense_1 (Dense)              (None, 3)                 195       \n",
      "=================================================================\n",
      "Total params: 2,872,643\n",
      "Trainable params: 2,872,611\n",
      "Non-trainable params: 32\n",
      "_________________________________________________________________\n",
      "Epoch 1/2\n",
      "1405/1405 [==============================] - 71s 51ms/step - loss: 0.6241 - accuracy: 0.7507\n",
      "Epoch 2/2\n",
      "1405/1405 [==============================] - 70s 50ms/step - loss: 0.3873 - accuracy: 0.8703\n"
     ]
    }
   ],
   "source": [
    "# Model Definition with LSTM\n",
    "tf.keras.backend.clear_session()\n",
    "\n",
    "tokenizer = Tokenizer(num_words = vocab_size, oov_token=oov_tok)\n",
    "tokenizer.fit_on_texts(X)\n",
    "word_index = tokenizer.word_index\n",
    "sequences = tokenizer.texts_to_sequences(X)\n",
    "padded = pad_sequences(sequences,maxlen=max_length, truncating=trunc_type)\n",
    "\n",
    "\n",
    "from tensorflow.keras.losses import SparseCategoricalCrossentropy\n",
    "\n",
    "# hyper parameters\n",
    "embedding_dim = 16\n",
    "units = 512\n",
    "\n",
    "model = tf.keras.Sequential([\n",
    "    tf.keras.layers.Embedding(vocab_size, embedding_dim, input_length=max_length),\n",
    "    tf.keras.layers.BatchNormalization(),\n",
    "    tf.keras.layers.Bidirectional(tf.keras.layers.LSTM(units,return_sequences=True)),\n",
    "    tf.keras.layers.GlobalMaxPool1D(),\n",
    "    tf.keras.layers.Dropout(0.2),\n",
    "    tf.keras.layers.Dense(64, activation=\"relu\"),\n",
    "    tf.keras.layers.Dropout(0.2),\n",
    "    tf.keras.layers.Dense(3, activation='sigmoid')\n",
    "])\n",
    "\n",
    "model.compile(loss=SparseCategoricalCrossentropy(),\n",
    "              optimizer='nadam',metrics=['accuracy']\n",
    "             )\n",
    "\n",
    "model.summary()\n",
    "\n",
    "num_epochs = 2\n",
    "history = model.fit(padded, y, epochs=num_epochs)\n",
    "model.save_weights('weights.h5')"
   ]
  },
  {
   "cell_type": "markdown",
   "metadata": {
    "id": "FWXihQwmqR4K"
   },
   "source": [
    "## Try to Predict Your Own 'Tweets'!\n",
    "\n",
    "What if we want to use our models here to predict our own tweet? "
   ]
  },
  {
   "cell_type": "code",
   "execution_count": 64,
   "metadata": {
    "id": "oFSnGSu3qk4Q"
   },
   "outputs": [],
   "source": [
    "# define preprocessing function\n",
    "def preprocess_tweet(tweet):\n",
    "  input = list()\n",
    "  input.append(tweet)\n",
    "  df_input = pd.DataFrame()\n",
    "  df_input['OriginalTweet'] = input\n",
    "  # lowercase the text\n",
    "  df_input['cleaned_tweet'] = df_input['OriginalTweet'].apply(lambda x: x.lower())\n",
    "  # getting rid of whitespaces\n",
    "  df_input['cleaned_tweet'] = df_input['cleaned_tweet'].apply(lambda x: x.replace('\\n', ' '))\n",
    "  # remove links\n",
    "  df_input['cleaned_tweet'] = df_input['cleaned_tweet'].str.replace('http\\S+|www.\\S+', '', case=False)\n",
    "  # removing '>'\n",
    "  df_input['cleaned_tweet'] = df_input['cleaned_tweet'].apply(lambda x: x.replace('&gt;', ''))\n",
    "  # removing '<'\n",
    "  df_input['cleaned_tweet'] = df_input['cleaned_tweet'].apply(lambda x: x.replace('&lt;', ''))\n",
    "  # checking emoji\n",
    "  df_input['emoji'] = df_input['cleaned_tweet'].apply(lambda x: text_has_emoji(x))\n",
    "  # remove emoji\n",
    "  df_input['cleaned_tweet'] = df_input['cleaned_tweet'].apply(lambda x: deEmojify(x))\n",
    "  # remove punctuation\n",
    "  df_input['cleaned_tweet'] = df_input['cleaned_tweet'].apply(remove_punctuations)\n",
    "  # remove ' s ' that was created after removing punctuations\n",
    "  df_input['cleaned_tweet'] = df_input['cleaned_tweet'].apply(lambda x: str(x).replace(\" s \", \" \"))\n",
    "  # apply lemmatization\n",
    "  df_input['lemmatized'] = df_input['cleaned_tweet'].apply(lambda x: lemmatize(x))\n",
    "  # After lemmatization, some pronouns are changed to '-PRON' and we're going to remove it\n",
    "  df_input['lemmatized'] = df_input['lemmatized'].apply(lambda x: x.replace('-PRON-', ' '))\n",
    "  # apply tokenization\n",
    "  df_input['tokenized_tweet'] = df_input['lemmatized'].apply(word_tokenize)\n",
    "  # remove stop words\n",
    "  df_input['tokenized_tweet'] = df_input['tokenized_tweet'].apply(lambda word_list: [x for x in word_list if x not in custom_set])\n",
    "  # remove numbers\n",
    "  df_input['tokenized_tweet'] = df_input['tokenized_tweet'].apply(lambda list_data: [x for x in list_data if x.isalpha()])\n",
    "  # finalizing the preprocessing\n",
    "  finale = list()\n",
    "  for list_of_words in df_input.tokenized_tweet:\n",
    "    finale.append(' '.join(list_of_words))\n",
    "\n",
    "  df_input['final_text'] = finale\n",
    "\n",
    "  return df_input.final_text\n",
    "\n",
    "# define tf-idf function (for machine learning algorithms)\n",
    "def tfidf_text(tfidf_model, text):\n",
    "  tfidf_new = TfidfVectorizer(ngram_range=(1,2), \n",
    "                              vocabulary = tfidf_model.vocabulary_)\n",
    "  vector = tfidf_new.fit_transform(text)\n",
    "  return vector\n",
    "\n",
    "# define padding function (for deep learning algorithm)\n",
    "def padding(tokenizer_model, text):\n",
    "  sequence = tokenizer_model.texts_to_sequences(text)\n",
    "  padded = tf.keras.preprocessing.sequence.pad_sequences(sequence, maxlen=130)\n",
    "  return padded\n"
   ]
  },
  {
   "cell_type": "code",
   "execution_count": 65,
   "metadata": {
    "id": "g86ICfgtUlty"
   },
   "outputs": [],
   "source": [
    "def predict_proba(model, vector, print_all = False, deep_learning = False):\n",
    "  if deep_learning == False:\n",
    "    array = model.predict_proba(vector)\n",
    "    prediction = model.predict(vector)[0]\n",
    "  else:\n",
    "    array = model.predict(vector)\n",
    "    prediction = np.argmax(array)\n",
    "\n",
    "  neg_proba = array[0][0]\n",
    "  neu_proba = array[0][1]\n",
    "  pos_proba = array[0][2]\n",
    "\n",
    "  if print_all == True:\n",
    "    print('Positive Sentiment Probability: ', round(pos_proba*100,3), '%')\n",
    "    print('Neutral Sentiment Probability: ', round(neu_proba*100, 3), '%')\n",
    "    print('Negative Sentiment Probability: ', round(neg_proba*100, 3), '%')\n",
    "\n",
    "  if prediction == 0:\n",
    "    print ('Predicted Sentiment: Negative')\n",
    "  elif prediction == 1:\n",
    "    print ('Predicted Sentiment: Neutral')\n",
    "  else:\n",
    "    print ('Predicted Sentiment: Positive')\n",
    "  \n",
    "  output = {'Sentiment':['Positive', 'Neutral', 'Negative'],\n",
    "            'Probability':[pos_proba, neu_proba, neg_proba]}\n",
    "  df_output = pd.DataFrame(output, columns = ['Sentiment', 'Probability'])\n",
    "\n",
    "  ax = sns.barplot(x = 'Sentiment', y = 'Probability',data = df_output)\n",
    "  s = [pos_proba, neu_proba, neg_proba]\n",
    "\n",
    "  for i,p in enumerate(ax.patches):\n",
    "    height = p.get_height()\n",
    "    ax.text(p.get_x()+p.get_width()/2.,\n",
    "            height + 0.003, str(round(s[i]*100,2))+'%',\n",
    "            ha=\"center\") \n",
    "\n",
    "  \n",
    "  return df_output\n"
   ]
  },
  {
   "cell_type": "markdown",
   "metadata": {
    "id": "bD8zQyZst5Qu"
   },
   "source": [
    "Now, let's try to predict our own tweets."
   ]
  },
  {
   "cell_type": "code",
   "execution_count": 76,
   "metadata": {
    "id": "Ay-53ASZ_Brh"
   },
   "outputs": [],
   "source": [
    "raw_tweet = \"we're all angry at the egoistic people who tries to benefit from others during this time of need\"\n",
    "tweet = preprocess_tweet(raw_tweet)\n",
    "vector = tfidf_text(Tfidf, tweet)\n",
    "pad = padding(tokenizer, tweet)"
   ]
  },
  {
   "cell_type": "code",
   "execution_count": 77,
   "metadata": {
    "colab": {
     "base_uri": "https://localhost:8080/",
     "height": 420
    },
    "id": "MzrC0qYhVPe1",
    "outputId": "238fefba-534c-4055-863b-0947a1ac8ec3"
   },
   "outputs": [
    {
     "name": "stdout",
     "output_type": "stream",
     "text": [
      "Predicted Sentiment: Negative\n"
     ]
    },
    {
     "data": {
      "text/html": [
       "<div>\n",
       "<style scoped>\n",
       "    .dataframe tbody tr th:only-of-type {\n",
       "        vertical-align: middle;\n",
       "    }\n",
       "\n",
       "    .dataframe tbody tr th {\n",
       "        vertical-align: top;\n",
       "    }\n",
       "\n",
       "    .dataframe thead th {\n",
       "        text-align: right;\n",
       "    }\n",
       "</style>\n",
       "<table border=\"1\" class=\"dataframe\">\n",
       "  <thead>\n",
       "    <tr style=\"text-align: right;\">\n",
       "      <th></th>\n",
       "      <th>Sentiment</th>\n",
       "      <th>Probability</th>\n",
       "    </tr>\n",
       "  </thead>\n",
       "  <tbody>\n",
       "    <tr>\n",
       "      <th>0</th>\n",
       "      <td>Positive</td>\n",
       "      <td>0.269929</td>\n",
       "    </tr>\n",
       "    <tr>\n",
       "      <th>1</th>\n",
       "      <td>Neutral</td>\n",
       "      <td>0.167624</td>\n",
       "    </tr>\n",
       "    <tr>\n",
       "      <th>2</th>\n",
       "      <td>Negative</td>\n",
       "      <td>0.889086</td>\n",
       "    </tr>\n",
       "  </tbody>\n",
       "</table>\n",
       "</div>"
      ],
      "text/plain": [
       "  Sentiment  Probability\n",
       "0  Positive     0.269929\n",
       "1   Neutral     0.167624\n",
       "2  Negative     0.889086"
      ]
     },
     "execution_count": 77,
     "metadata": {
      "tags": []
     },
     "output_type": "execute_result"
    },
    {
     "data": {
      "image/png": "[encoded data removed]",
      "text/plain": [
       "<Figure size 432x288 with 1 Axes>"
      ]
     },
     "metadata": {
      "needs_background": "light",
      "tags": []
     },
     "output_type": "display_data"
    }
   ],
   "source": [
    "# predicting the sentiment using our deep learning model\n",
    "predict_proba(model, pad, deep_learning=True)"
   ]
  },
  {
   "cell_type": "code",
   "execution_count": 78,
   "metadata": {
    "colab": {
     "base_uri": "https://localhost:8080/",
     "height": 420
    },
    "id": "GgQ3teDIuVQk",
    "outputId": "348ea265-c643-4ebf-edab-902b4ccb4056"
   },
   "outputs": [
    {
     "name": "stdout",
     "output_type": "stream",
     "text": [
      "Predicted Sentiment: Positive\n"
     ]
    },
    {
     "data": {
      "text/html": [
       "<div>\n",
       "<style scoped>\n",
       "    .dataframe tbody tr th:only-of-type {\n",
       "        vertical-align: middle;\n",
       "    }\n",
       "\n",
       "    .dataframe tbody tr th {\n",
       "        vertical-align: top;\n",
       "    }\n",
       "\n",
       "    .dataframe thead th {\n",
       "        text-align: right;\n",
       "    }\n",
       "</style>\n",
       "<table border=\"1\" class=\"dataframe\">\n",
       "  <thead>\n",
       "    <tr style=\"text-align: right;\">\n",
       "      <th></th>\n",
       "      <th>Sentiment</th>\n",
       "      <th>Probability</th>\n",
       "    </tr>\n",
       "  </thead>\n",
       "  <tbody>\n",
       "    <tr>\n",
       "      <th>0</th>\n",
       "      <td>Positive</td>\n",
       "      <td>0.55</td>\n",
       "    </tr>\n",
       "    <tr>\n",
       "      <th>1</th>\n",
       "      <td>Neutral</td>\n",
       "      <td>0.02</td>\n",
       "    </tr>\n",
       "    <tr>\n",
       "      <th>2</th>\n",
       "      <td>Negative</td>\n",
       "      <td>0.43</td>\n",
       "    </tr>\n",
       "  </tbody>\n",
       "</table>\n",
       "</div>"
      ],
      "text/plain": [
       "  Sentiment  Probability\n",
       "0  Positive         0.55\n",
       "1   Neutral         0.02\n",
       "2  Negative         0.43"
      ]
     },
     "execution_count": 78,
     "metadata": {
      "tags": []
     },
     "output_type": "execute_result"
    },
    {
     "data": {
      "image/png": "[encoded data removed]",
      "text/plain": [
       "<Figure size 432x288 with 1 Axes>"
      ]
     },
     "metadata": {
      "needs_background": "light",
      "tags": []
     },
     "output_type": "display_data"
    }
   ],
   "source": [
    "# prediction using random forest classifier\n",
    "predict_proba(lr, vector)"
   ]
  },
  {
   "cell_type": "markdown",
   "metadata": {
    "id": "2m0ooH0KRXfS"
   },
   "source": [
    "The sample tweet is clearly a negative one. Our deep learning model classifies it correctly, but our logistic regression says that it's a positive tweet."
   ]
  },
  {
   "cell_type": "markdown",
   "metadata": {
    "id": "CkMNDoFvphhM"
   },
   "source": [
    "## Conclusion\n",
    "\n",
    "\n",
    "\n",
    "*   We can train machine learning or deep learning models to recognize and classify sentiments within text.\n",
    "*   Before being fed into models, our raw text has to be cleaned, lemmatized, tokenized, then having stop words removed, and finally vectorized. \n",
    "*   There are a few NLP packages which helps us to do the steps above. Some notorious ones are nltk and spacy.\n",
    "* In this project, our deep learning model performed better than all machine learning models. This is because our deep learning model uses Bidirectional Long Short Term Memory layer. \n",
    "\n"
   ]
  },
  {
   "cell_type": "markdown",
   "metadata": {
    "id": "VN-1Fjp09pqc"
   },
   "source": [
    "## Saving TF-IDF and Tokenizer"
   ]
  },
  {
   "cell_type": "code",
   "execution_count": 72,
   "metadata": {
    "id": "aR07yVkk9rj7"
   },
   "outputs": [],
   "source": [
    "# saving tf-idf model\n",
    "pickle.dump(Tfidf, open(\"Tfidf.pickle\", \"wb\"))\n",
    "\n",
    "# saving deep learning tokenizer\n",
    "pickle.dump(tokenizer, open(\"tokenizer.pickle\", \"wb\"))\n"
   ]
  }
 ],
 "metadata": {
  "accelerator": "GPU",
  "colab": {
   "collapsed_sections": [],
   "name": "COVID-19 Sentiment NLP - Final.ipynb",
   "provenance": []
  },
  "kernelspec": {
   "display_name": "Python 3",
   "language": "python",
   "name": "python3"
  },
  "language_info": {
   "codemirror_mode": {
    "name": "ipython",
    "version": 3
   },
   "file_extension": ".py",
   "mimetype": "text/x-python",
   "name": "python",
   "nbconvert_exporter": "python",
   "pygments_lexer": "ipython3",
   "version": "3.8.4"
  }
 },
 "nbformat": 4,
 "nbformat_minor": 1
}
